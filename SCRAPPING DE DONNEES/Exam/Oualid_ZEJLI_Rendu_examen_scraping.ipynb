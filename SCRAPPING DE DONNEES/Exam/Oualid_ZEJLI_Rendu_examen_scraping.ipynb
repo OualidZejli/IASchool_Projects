{
  "nbformat": 4,
  "nbformat_minor": 0,
  "metadata": {
    "colab": {
      "name": "Oualid ZEJLI - Rendu examen_scraping.ipynb",
      "provenance": [],
      "collapsed_sections": []
    },
    "kernelspec": {
      "name": "python3",
      "display_name": "Python 3"
    },
    "language_info": {
      "name": "python"
    }
  },
  "cells": [
    {
      "cell_type": "markdown",
      "source": [
        "## Examen Scraping de données à l'aide de `Beautiful Soup`"
      ],
      "metadata": {
        "id": "pSBFN9JZu6wU"
      }
    },
    {
      "cell_type": "code",
      "execution_count": 133,
      "metadata": {
        "id": "Ne3Y_9ipF0f9"
      },
      "outputs": [],
      "source": [
        "import bs4\n",
        "from bs4 import BeautifulSoup\n",
        "import requests"
      ]
    },
    {
      "cell_type": "markdown",
      "source": [
        "Le site que l'on va scraper : https://www.oldbookillustrations.com/illustrations/\n",
        "\n",
        "On veut récupérer la liste des illustrations présentes sur chaque page ainsi que sauvegarder le lien vers l'image et vers la page associée à cette illustration.\n",
        "\n",
        "Dans un second temps sur la page de l'illustration on veut récupérer des informations textuelles."
      ],
      "metadata": {
        "id": "kuW2Al1IF76R"
      }
    },
    {
      "cell_type": "markdown",
      "source": [
        "### Requête HTTP"
      ],
      "metadata": {
        "id": "qV6luBU9INLt"
      }
    },
    {
      "cell_type": "markdown",
      "source": [
        "Le site a mis au point un filtre qui refuse de nous envoyer le contenu HTML à partir d'un script (code 403 : Forbidden). Heureusement en précisant des \"*headers*\" on peut facilement contourner ceci."
      ],
      "metadata": {
        "id": "nvbBAa1qGwar"
      }
    },
    {
      "cell_type": "code",
      "source": [
        "#Dans cette cellule, on effectue la requête vers la page à scraper afin de récupérer l'HTML.\n",
        "#Afin que personne ne soit bloqué, le code est déjà écrit\n",
        "\n",
        "url = \"https://www.oldbookillustrations.com/illustrations/page/1\"\n",
        "headers = {'User-Agent': 'Mozilla/5.0 (Macintosh; Intel Mac OS X 10_11_5) AppleWebKit/537.36 (KHTML, like Gecko) Chrome/50.0.2661.102 Safari/537.36'}\n",
        "response = requests.get(url, headers=headers)\n",
        "if response.ok :\n",
        "  html = response.text\n",
        "else :\n",
        "  #Si jamais la requête est refusée, l'HTML va être récupérée d'une archive\n",
        "  !wget https://raw.githubusercontent.com/giganttheo/cours/master/scraping/oldbookillustrations.html\n",
        "  with open(\"./oldbookillustrations.html\", \"r\") as f:\n",
        "    html = f.read()"
      ],
      "metadata": {
        "id": "2Z8XvJgSGrxk"
      },
      "execution_count": 134,
      "outputs": []
    },
    {
      "cell_type": "markdown",
      "source": [
        "/!\\ Au cas où cela ne fonctionne pas, et pour s'assurer des résultats, on peut travailler avec une sauvegarde du fichier HTML que j'ai archivée pour être sûr de tous pouvoir continuer !"
      ],
      "metadata": {
        "id": "sMwq6ApGH0E5"
      }
    },
    {
      "cell_type": "markdown",
      "source": [
        "### Scraper la liste des illustrations (8 points)"
      ],
      "metadata": {
        "id": "KP7D2PfpIJnP"
      }
    },
    {
      "cell_type": "code",
      "source": [
        "soup = BeautifulSoup(html, \"html.parser\")\n",
        "soup"
      ],
      "metadata": {
        "id": "sMu74xwNIPjp",
        "colab": {
          "base_uri": "https://localhost:8080/"
        },
        "outputId": "374d72f5-ddb4-4251-9b30-027982b86596"
      },
      "execution_count": 135,
      "outputs": [
        {
          "output_type": "execute_result",
          "data": {
            "text/plain": [
              " <!DOCTYPE html>\n",
              "\n",
              "<!--[if IE 7]>\n",
              "\t<html class=\"ie ie7\" lang=\"en-US\">\n",
              "\t<![endif]-->\n",
              "<!--[if IE 8]>\n",
              "\t<html class=\"ie ie8\" lang=\"en-US\">\n",
              "\t<![endif]-->\n",
              "<!--[if !(IE 7) & !(IE 8)]><!-->\n",
              "<html lang=\"en-US\">\n",
              "<!--<![endif]-->\n",
              "<head>\n",
              "<meta charset=\"utf-8\"/>\n",
              "<meta content=\"width=device-width\" name=\"viewport\"/>\n",
              "<title>Illustrations – Old Book Illustrations</title>\n",
              "<link href=\"https://www.oldbookillustrations.com/illustrations/feed/\" rel=\"alternate\" title=\"Old Book Illustrations » Illustrations Feed\" type=\"application/rss+xml\"/>\n",
              "<link href=\"https://www.oldbookillustrations.com/wp-content/plugins/obi-related-illustrations/includes/assets/css/styles.css?ver=4.9.20\" id=\"related-posts-by-taxonomy-css\" media=\"all\" rel=\"stylesheet\" type=\"text/css\"/>\n",
              "<link href=\"https://www.oldbookillustrations.com/wp-content/plugins/wp-pagenavi/pagenavi-css.css?ver=2.70\" id=\"wp-pagenavi-css\" media=\"all\" rel=\"stylesheet\" type=\"text/css\"/>\n",
              "<link href=\"https://www.oldbookillustrations.com/wp-content/themes/obi_theme/style.css?ver=5.4.3\" id=\"obi-style-css\" media=\"all\" rel=\"stylesheet\" type=\"text/css\"/>\n",
              "<link href=\"https://www.oldbookillustrations.com/wp-content/themes/obi_theme/css/archive-style.min.css?ver=1.1.2\" id=\"obi-archive-css\" media=\"all\" rel=\"stylesheet\" type=\"text/css\"/>\n",
              "<link href=\"https://www.oldbookillustrations.com/wp-content/themes/obi_theme/css/pagenavi-css.min.css?ver=1.0.1\" id=\"obi-pagination-css\" media=\"all\" rel=\"stylesheet\" type=\"text/css\"/>\n",
              "<link href=\"https://www.oldbookillustrations.com/wp-content/themes/obi_theme/genericons/genericons.css?ver=3.03\" id=\"genericons-css\" media=\"all\" rel=\"stylesheet\" type=\"text/css\"/>\n",
              "<!--[if lt IE 9]>\n",
              "<link rel='stylesheet' id='obi-ie-css'  href='https://www.oldbookillustrations.com/wp-content/themes/obi_theme/css/ie.css?ver=1.0.1' type='text/css' media='all' />\n",
              "<![endif]-->\n",
              "<script src=\"https://www.oldbookillustrations.com/wp-includes/js/jquery/jquery.js?ver=1.12.4\" type=\"text/javascript\"></script>\n",
              "<script defer=\"defer\" src=\"https://www.oldbookillustrations.com/wp-includes/js/jquery/jquery-migrate.min.js?ver=1.4.1\" type=\"text/javascript\"></script>\n",
              "<script defer=\"defer\" src=\"https://www.oldbookillustrations.com/wp-content/themes/obi_theme/js/htmx.min.js?ver=1\" type=\"text/javascript\"></script>\n",
              "<script defer=\"defer\" src=\"https://www.oldbookillustrations.com/wp-content/themes/obi_theme/js/htmx-preload.min.js?ver=1\" type=\"text/javascript\"></script>\n",
              "<script defer=\"defer\" src=\"https://www.oldbookillustrations.com/wp-content/themes/obi_theme/js/lightbox.min.js?ver=1.0.1\" type=\"text/javascript\"></script>\n",
              "<link href=\"https://www.oldbookillustrations.com/wp-json/\" rel=\"https://api.w.org/\"/>\n",
              "<script type=\"text/javascript\">\n",
              "\twindow._se_plugin_version = '8.1.9';\n",
              "</script>\n",
              "<link href=\"https://www.oldbookillustrations.com/feed/\" rel=\"alternate\" title=\"RSS 2.0 Feed\" type=\"application/rss+xml\"/> <style type=\"text/css\">.recentcomments a{display:inline !important;padding:0 !important;margin:0 !important;}</style>\n",
              "<meta content=\"Comprehensive gallery displaying all of the pictures that can be found on Old Book Illustrations, sorted from most to least recent\" name=\"description\"/>\n",
              "<link href=\"https://www.oldbookillustrations.com/favicon.ico?ver=1.1.0\" rel=\"icon\" sizes=\"32x32\" type=\"image/png\"/>\n",
              "<link href=\"https://www.oldbookillustrations.com/favicon-32x32.png?ver=1.1.0\" rel=\"icon\" sizes=\"32x32\" type=\"image/png\"/>\n",
              "<link href=\"https://www.oldbookillustrations.com/favicon-96x96.png?ver=1.1.0\" rel=\"icon\" sizes=\"96x96\" type=\"image/png\"/>\n",
              "<link href=\"https://www.oldbookillustrations.com/android-chrome-192x192.png?ver=1.1.0\" rel=\"icon\" sizes=\"192x192\" type=\"image/png\"/>\n",
              "<link href=\"https://www.oldbookillustrations.com/favicon-16x16.png?ver=1.1.0\" rel=\"icon\" sizes=\"16x16\" type=\"image/png\"/>\n",
              "<!--[if IE]>\n",
              "\t\t<link rel=\"stylesheet\" type=\"text/css\" href=\"https://www.oldbookillustrations.com/wp-content/themes/obi_theme/css/ie-only.v2.css\" />\n",
              "\t\t<![endif]-->\n",
              "<!--[if lt IE 9]>\n",
              "\t\t<script src=\"https://www.oldbookillustrations.com/wp-content/themes/obi_theme/js/html5.js\"></script>\n",
              "\t\t<![endif]-->\n",
              "<meta content=\"sLQsUzqRMFoXQ8NoMHhY7ir9TR5RDzhhr2Fi6IuIaiE=\" name=\"verify-v1\"/>\n",
              "<meta content=\"Old Book Illustrations\" property=\"og:site_name\"/>\n",
              "<meta content=\"The Flu in Paris | Old Book Illustrations\" property=\"og:title\"/>\n",
              "<meta content=\"article\" property=\"og:type\"/>\n",
              "<meta content=\"www.oldbookillustrations.com/illustrations/\" property=\"og:url\"/>\n",
              "<meta content=\"https://oldbookillustrations.com/wp-content/high-res/1864/flu-paris-768.jpg\" property=\"og:image\"/>\n",
              "<meta content=\"Comprehensive gallery displaying all of the pictures that can be found on Old Book Illustrations, sorted from most to least recent\" property=\"og:description\"/>\n",
              "<meta content=\"summary_large_image\" name=\"twitter:card\"/>\n",
              "<meta content=\"@obillustrations\" name=\"twitter:site\"/>\n",
              "<meta content=\"The Flu in Paris Old Book Illustrations\" name=\"twitter:title\"/>\n",
              "<meta content=\"Comprehensive gallery displaying all of the pictures that can be found on Old Book Illustrations, sorted from most to least recent\" name=\"twitter:description\"/>\n",
              "<meta content=\"https://oldbookillustrations.com/wp-content/high-res/1864/flu-paris-768.jpg\" name=\"twitter:image\"/>\n",
              "</head>\n",
              "<body class=\"archive post-type-archive post-type-archive-illustration sidebar\" hx-ext=\"preload\" itemscope=\"\" itemtype=\"https://schema.org/WebPage\">\n",
              "<div class=\"hfeed site\" id=\"page\">\n",
              "<header class=\"site-header not-home clear\" id=\"masthead\" itemscope=\"\" itemtype=\"https://schema.org/WPHeader\">\n",
              "<div class=\"navbar\" id=\"navbar\">\n",
              "<a class=\"navbar-logo\" href=\"https://www.oldbookillustrations.com/\">Home</a>\n",
              "<nav class=\"navigation main-navigation\" id=\"site-navigation\" itemscope=\"\" itemtype=\"https://schema.org/SiteNavigationElement\">\n",
              "<button class=\"menu-toggle\">Menu</button>\n",
              "<a class=\"screen-reader-text skip-link\" href=\"#content\" title=\"Skip to content\">Skip to content</a>\n",
              "<div class=\"menu-menu-1-container\"><ul class=\"nav-menu\" id=\"menu-menu-1\" preload=\"\">\n",
              "<li class=\"menu-item menu-item-object-page current-menu-item\" id=\"menu-item-1773\"><a href=\"https://www.oldbookillustrations.com/illustrations/\">All Illustrations</a></li>\n",
              "<li class=\"menu-item menu-item-object-page\" id=\"menu-item-1770\"><a href=\"https://www.oldbookillustrations.com/advanced-search/\">Advanced Search</a></li>\n",
              "<li class=\"menu-item menu-item-object-page \" id=\"menu-item-1776\"><a href=\"https://www.oldbookillustrations.com/tags/\">Tags</a></li>\n",
              "<li class=\"menu-item\" id=\"menu-item-1774\"><a href=\"https://www.oldbookillustrations.com/dictionary/contents/index\">Dictionary of Printing</a></li>\n",
              "<!--<li id=\"menu-item-1775\" class=\"menu-item menu-item-type-custom\"><a href=\"https://scrap.oldbookillustrations.com/\">Blog</a></li>-->\n",
              "</ul></div> </nav><!-- #site-navigation -->\n",
              "</div><!-- #navbar -->\n",
              "<div class=\"alt-home-link\"><p class=\"alt-site-title\" itemprop=\"headline\"><a href=\"https://www.oldbookillustrations.com/\" preload=\"\" rel=\"home\" title=\"Old Book Illustrations\">\n",
              "\t\tOld Book Illustrations</a></p>\n",
              "<form action=\"https://www.oldbookillustrations.com/\" id=\"searchform\" method=\"get\" role=\"search\">\n",
              "<label class=\"screen-reader-text\" for=\"s\">Search for</label>\n",
              "<input id=\"s\" name=\"s\" placeholder=\"Enter search terms\" type=\"search\" value=\"\"/>\n",
              "<input id=\"searchsubmit\" type=\"submit\" value=\" \"/><br/>\n",
              "<!-- <label class=\"illustrations\" for=\"illustration\"> --><input checked=\"checked\" id=\"illustration\" name=\"post_type[]\" type=\"hidden\" value=\"illustration\"/><!-- Illustrations</label> -->\n",
              "<!-- <label class=\"articles\" for=\"article\"><input type=\"checkbox\" id=\"article\" name=\"post_type[]\" value=\"article\" />Articles</label> -->\n",
              "</form> </div><!-- .alt-home-link -->\n",
              "</header><!-- #masthead -->\n",
              "<nav class=\"short-menu\" id=\"obi-device\" itemscope=\"\" itemtype=\"https://schema.org/SiteNavigationElement\"><ul><li class=\"artists\"><a href=\"/artists/\">Artists</a></li> <li class=\"formats\">| <a href=\"/formats/\">Formats</a></li> <li class=\"publishers\">| <a href=\"/publishers/\">Publishers</a></li> <li class=\"subjects\">| <a href=\"/subjects/\">Subjects</a></li> <li class=\"techniques\">| <a href=\"/techniques/\">Techniques</a></li> <li class=\"s-titles\">| <a href=\"/titles/\">Titles</a></li> <li class=\"illustrators\">|| <a href=\"/editorial/illustrators/\">Illustrators</a></li> <li class=\"on-books\">| <a href=\"/editorial/on-books/\">On Books</a></li> </ul></nav>\n",
              "<div class=\"hamburger\">\n",
              "<a href=\"#slide-nav\">\n",
              "<svg height=\"20\" width=\"23\">\n",
              "<g id=\"hamburger-1\">\n",
              "<path d=\"M0,2 23,2\" stroke-width=\"3\"></path>\n",
              "<path d=\"M0,10 23,10\" stroke-width=\"3\"></path>\n",
              "<path d=\"M0,18 23,18\" stroke-width=\"3\"></path>\n",
              "</g>\n",
              "</svg>\n",
              "</a>\n",
              "</div>\n",
              "<p class=\"patpopup-link\"><a href=\"#patron-popup\">Patron Login</a></p>\n",
              "<div class=\"overlay\" id=\"patron-popup\">\n",
              "<div class=\"login-popup\">\n",
              "<h2>Log In Form</h2>\n",
              "<a class=\"modal-close\" href=\"#\">×</a>\n",
              "<div class=\"modal-content\">\n",
              "<p>\n",
              "<form action=\"https://www.oldbookillustrations.com/wp-login.php\" id=\"loginform\" method=\"post\" name=\"loginform\">\n",
              "<p class=\"login-username\">\n",
              "<label for=\"user_login\">Username</label>\n",
              "<input class=\"input\" id=\"user_login\" name=\"log\" size=\"20\" type=\"text\" value=\"\"/>\n",
              "</p>\n",
              "<p class=\"login-password\">\n",
              "<label for=\"user_pass\">Password</label>\n",
              "<input class=\"input\" id=\"user_pass\" name=\"pwd\" size=\"20\" type=\"password\" value=\"\"/>\n",
              "</p>\n",
              "<p class=\"login-remember\"><label><input id=\"rememberme\" name=\"rememberme\" type=\"checkbox\" value=\"forever\"/> Remember Me</label></p>\n",
              "<p class=\"login-submit\">\n",
              "<input class=\"button button-primary\" id=\"wp-submit\" name=\"wp-submit\" type=\"submit\" value=\"Log In\"/>\n",
              "<input name=\"redirect_to\" type=\"hidden\" value=\"https://www.oldbookillustrations.com/illustrations/\"/>\n",
              "</p>\n",
              "</form></p></div></div></div>\n",
              "<div class=\"site-main\" id=\"main\">\n",
              "<div class=\"content-area\" id=\"primary\">\n",
              "<main class=\"site-content clear\" id=\"content\" role=\"main\">\n",
              "<section>\n",
              "<header class=\"archive-header\">\n",
              "<ul class=\"breadcrumb alignleft crumbpad\">\n",
              "<li><a class=\"hvr-underline-from-left underline\" href=\"https://www.oldbookillustrations.com/\">Home</a></li>\n",
              "<li>» Illustrations</li>\n",
              "</ul>\n",
              "<h1 class=\"archive-title\">All Illustrations</h1>\n",
              "</header><!-- .archive-header -->\n",
              "<div class=\"entry-content clear\">\n",
              "<ul class=\"lightbox-gallery\">\n",
              "<li>\n",
              "<a data-alt=\"The Flu in Paris\" data-lightbox=\"artist\" data-title=\"The Flu in Paris\" href=\"https://www.oldbookillustrations.com/wp-content/uploads/2022/05/flu-paris.jpg\">Open Image Viewer</a><br/>\n",
              "<noscript>(Requires JavaScript)</noscript>\n",
              "</li>\n",
              "<li>\n",
              "<a data-alt=\"Waiting for the Comet\" data-lightbox=\"artist\" data-title=\"Waiting for the Comet\" href=\"https://www.oldbookillustrations.com/wp-content/uploads/2022/05/waiting-for-comet.jpg\">Open Image Viewer</a><br/>\n",
              "<noscript>(Requires JavaScript)</noscript>\n",
              "</li>\n",
              "<li>\n",
              "<a data-alt=\"The Most Sacred Duty\" data-lightbox=\"artist\" data-title=\"The Most Sacred Duty\" href=\"https://www.oldbookillustrations.com/wp-content/uploads/2022/05/sacred-duty.jpg\">Open Image Viewer</a><br/>\n",
              "<noscript>(Requires JavaScript)</noscript>\n",
              "</li>\n",
              "<li>\n",
              "<a data-alt=\"An Exceedingly Extended Station\" data-lightbox=\"artist\" data-title=\"An Exceedingly Extended Station\" href=\"https://www.oldbookillustrations.com/wp-content/uploads/2022/05/extended-station.jpg\">Open Image Viewer</a><br/>\n",
              "<noscript>(Requires JavaScript)</noscript>\n",
              "</li>\n",
              "<li>\n",
              "<a data-alt=\"The Lost Sponge\" data-lightbox=\"artist\" data-title=\"The Lost Sponge\" href=\"https://www.oldbookillustrations.com/wp-content/uploads/2022/05/lost-sponge.jpg\">Open Image Viewer</a><br/>\n",
              "<noscript>(Requires JavaScript)</noscript>\n",
              "</li>\n",
              "<li>\n",
              "<a data-alt=\"I Like Bald Soups\" data-lightbox=\"artist\" data-title=\"I Like Bald Soups\" href=\"https://www.oldbookillustrations.com/wp-content/uploads/2022/05/bald-soup.jpg\">Open Image Viewer</a><br/>\n",
              "<noscript>(Requires JavaScript)</noscript>\n",
              "</li>\n",
              "<li>\n",
              "<a data-alt=\"&lt;em&gt;Grusonia grahamii&lt;/em&gt;\" data-lightbox=\"artist\" data-title=\"&lt;em&gt;Grusonia grahamii&lt;/em&gt;\" href=\"https://www.oldbookillustrations.com/wp-content/uploads/2022/03/grusonia-grahamii.jpg\">Open Image Viewer</a><br/>\n",
              "<noscript>(Requires JavaScript)</noscript>\n",
              "</li>\n",
              "<li>\n",
              "<a data-alt=\"&lt;em&gt;Echinocereus berlandieri&lt;/em&gt;\" data-lightbox=\"artist\" data-title=\"&lt;em&gt;Echinocereus berlandieri&lt;/em&gt;\" href=\"https://www.oldbookillustrations.com/wp-content/uploads/2022/03/echinocereus-berlandieri.jpg\">Open Image Viewer</a><br/>\n",
              "<noscript>(Requires JavaScript)</noscript>\n",
              "</li>\n",
              "<li>\n",
              "<a data-alt=\"&lt;em&gt;Echinocereus dasyacanthus&lt;/em&gt;\" data-lightbox=\"artist\" data-title=\"&lt;em&gt;Echinocereus dasyacanthus&lt;/em&gt;\" href=\"https://www.oldbookillustrations.com/wp-content/uploads/2022/03/echinocereus-dasyacanthus.jpg\">Open Image Viewer</a><br/>\n",
              "<noscript>(Requires JavaScript)</noscript>\n",
              "</li>\n",
              "<li>\n",
              "<a data-alt=\"&lt;em&gt;Coryphantha echinus&lt;/em&gt;\" data-lightbox=\"artist\" data-title=\"&lt;em&gt;Coryphantha echinus&lt;/em&gt;\" href=\"https://www.oldbookillustrations.com/wp-content/uploads/2022/03/coryphantha-echinus.jpg\">Open Image Viewer</a><br/>\n",
              "<noscript>(Requires JavaScript)</noscript>\n",
              "</li>\n",
              "<li>\n",
              "<a data-alt=\"Various Subspecies of &lt;em&gt;Mammillaria heyderi&lt;/em&gt;\" data-lightbox=\"artist\" data-title=\"Various Subspecies of &lt;em&gt;Mammillaria heyderi&lt;/em&gt;\" href=\"https://www.oldbookillustrations.com/wp-content/uploads/2022/03/mammillaria-meiacantha.jpg\">Open Image Viewer</a><br/>\n",
              "<noscript>(Requires JavaScript)</noscript>\n",
              "</li>\n",
              "<li>\n",
              "<a data-alt=\"&lt;em&gt;Mammillaria grahamii&lt;/em&gt; &amp; &lt;em&gt;M. barbata&lt;/em&gt;\" data-lightbox=\"artist\" data-title=\"&lt;em&gt;Mammillaria grahamii&lt;/em&gt; &amp; &lt;em&gt;M. barbata&lt;/em&gt;\" href=\"https://www.oldbookillustrations.com/wp-content/uploads/2022/03/mamillaria-grahamii.jpg\">Open Image Viewer</a><br/>\n",
              "<noscript>(Requires JavaScript)</noscript>\n",
              "</li>\n",
              "</ul>\n",
              "<ul class=\"archive-gallery all focus\" preload=\"\">\n",
              "<li>\n",
              "<figure><a href=\"https://www.oldbookillustrations.com/illustrations/flu-paris/\"><img alt=\"A Parisian couple walks in the street, wrapped up in warm clothes and sickly, sniffling along\" class=\"archive-image focus wp-post-image\" height=\"220\" sizes=\"(max-width: 220px) 100vw, 220px\" src=\"https://www.oldbookillustrations.com/wp-content/uploads/2022/05/flu-paris-220x220.jpg\" srcset=\"https://www.oldbookillustrations.com/wp-content/uploads/2022/05/flu-paris-220x220.jpg 220w, https://www.oldbookillustrations.com/wp-content/uploads/2022/05/flu-paris-170x170.jpg 170w\" width=\"220\"/></a>\n",
              "<figcaption class=\"archive-title\"><a href=\"https://www.oldbookillustrations.com/illustrations/flu-paris/\">The Flu in Paris</a></figcaption></figure>\n",
              "</li>\n",
              "<li>\n",
              "<figure><a href=\"https://www.oldbookillustrations.com/illustrations/waiting-for-comet/\"><img alt=\"Parisians are out at night, tilting their heads back to catch a glimpse of the comet of 1857\" class=\"archive-image focus wp-post-image\" height=\"220\" sizes=\"(max-width: 220px) 100vw, 220px\" src=\"https://www.oldbookillustrations.com/wp-content/uploads/2022/05/waiting-for-comet-220x220.jpg\" srcset=\"https://www.oldbookillustrations.com/wp-content/uploads/2022/05/waiting-for-comet-220x220.jpg 220w, https://www.oldbookillustrations.com/wp-content/uploads/2022/05/waiting-for-comet-170x170.jpg 170w\" width=\"220\"/></a>\n",
              "<figcaption class=\"archive-title\"><a href=\"https://www.oldbookillustrations.com/illustrations/waiting-for-comet/\">Waiting for the Comet</a></figcaption></figure>\n",
              "</li>\n",
              "<li>\n",
              "<figure><a href=\"https://www.oldbookillustrations.com/illustrations/sacred-duty/\"><img alt=\"Three women take a solemn oath over the top hat one of them is holding\" class=\"archive-image focus wp-post-image\" height=\"220\" sizes=\"(max-width: 220px) 100vw, 220px\" src=\"https://www.oldbookillustrations.com/wp-content/uploads/2022/05/sacred-duty-220x220.jpg\" srcset=\"https://www.oldbookillustrations.com/wp-content/uploads/2022/05/sacred-duty-220x220.jpg 220w, https://www.oldbookillustrations.com/wp-content/uploads/2022/05/sacred-duty-170x170.jpg 170w\" width=\"220\"/></a>\n",
              "<figcaption class=\"archive-title\"><a href=\"https://www.oldbookillustrations.com/illustrations/sacred-duty/\">The Most Sacred Duty</a></figcaption></figure>\n",
              "</li>\n",
              "<li>\n",
              "<figure><a href=\"https://www.oldbookillustrations.com/illustrations/extended-station/\"><img alt=\"A crowd of travelers is standing on a railway platform, enduring a long wait under the rain\" class=\"archive-image focus wp-post-image\" height=\"220\" sizes=\"(max-width: 220px) 100vw, 220px\" src=\"https://www.oldbookillustrations.com/wp-content/uploads/2022/05/extended-station-220x220.jpg\" srcset=\"https://www.oldbookillustrations.com/wp-content/uploads/2022/05/extended-station-220x220.jpg 220w, https://www.oldbookillustrations.com/wp-content/uploads/2022/05/extended-station-170x170.jpg 170w\" width=\"220\"/></a>\n",
              "<figcaption class=\"archive-title\"><a href=\"https://www.oldbookillustrations.com/illustrations/extended-station/\">An Exceedingly Extended Station</a></figcaption></figure>\n",
              "</li>\n",
              "<li>\n",
              "<figure><a href=\"https://www.oldbookillustrations.com/illustrations/lost-sponge/\"><img alt=\"A high-strung kitchen boy breaks a bit of annoying news to a more lackadaisical chef\" class=\"archive-image focus wp-post-image\" height=\"220\" sizes=\"(max-width: 220px) 100vw, 220px\" src=\"https://www.oldbookillustrations.com/wp-content/uploads/2022/05/lost-sponge-220x220.jpg\" srcset=\"https://www.oldbookillustrations.com/wp-content/uploads/2022/05/lost-sponge-220x220.jpg 220w, https://www.oldbookillustrations.com/wp-content/uploads/2022/05/lost-sponge-170x170.jpg 170w\" width=\"220\"/></a>\n",
              "<figcaption class=\"archive-title\"><a href=\"https://www.oldbookillustrations.com/illustrations/lost-sponge/\">The Lost Sponge</a></figcaption></figure>\n",
              "</li>\n",
              "<li>\n",
              "<figure><a href=\"https://www.oldbookillustrations.com/illustrations/bald-soup/\"><img alt=\"A yman sitting at a restaurant table pulls a long hair out of his mouth with a disgusted grimace\" class=\"archive-image focus wp-post-image\" height=\"220\" sizes=\"(max-width: 220px) 100vw, 220px\" src=\"https://www.oldbookillustrations.com/wp-content/uploads/2022/05/bald-soup-220x220.jpg\" srcset=\"https://www.oldbookillustrations.com/wp-content/uploads/2022/05/bald-soup-220x220.jpg 220w, https://www.oldbookillustrations.com/wp-content/uploads/2022/05/bald-soup-170x170.jpg 170w\" width=\"220\"/></a>\n",
              "<figcaption class=\"archive-title\"><a href=\"https://www.oldbookillustrations.com/illustrations/bald-soup/\">I Like Bald Soups</a></figcaption></figure>\n",
              "</li>\n",
              "<li>\n",
              "<figure><a href=\"https://www.oldbookillustrations.com/illustrations/grusonia-grahamii/\"><img alt=\"Botanical steel engraving showing Grusonia grahamii, a plant in the family Cactaceae\" class=\"archive-image focus wp-post-image\" height=\"220\" sizes=\"(max-width: 220px) 100vw, 220px\" src=\"https://www.oldbookillustrations.com/wp-content/uploads/2022/03/grusonia-grahamii-220x220.jpg\" srcset=\"https://www.oldbookillustrations.com/wp-content/uploads/2022/03/grusonia-grahamii-220x220.jpg 220w, https://www.oldbookillustrations.com/wp-content/uploads/2022/03/grusonia-grahamii-170x170.jpg 170w\" width=\"220\"/></a>\n",
              "<figcaption class=\"archive-title\"><a href=\"https://www.oldbookillustrations.com/illustrations/grusonia-grahamii/\"><em>Grusonia grahamii</em></a></figcaption></figure>\n",
              "</li>\n",
              "<li>\n",
              "<figure><a href=\"https://www.oldbookillustrations.com/illustrations/echinocereus-berlandieri/\"><img alt=\"Botanical steel engraving showing Echinocereus berlandieri, a plant in the family Cactaceae\" class=\"archive-image focus wp-post-image\" height=\"220\" sizes=\"(max-width: 220px) 100vw, 220px\" src=\"https://www.oldbookillustrations.com/wp-content/uploads/2022/03/echinocereus-berlandieri-220x220.jpg\" srcset=\"https://www.oldbookillustrations.com/wp-content/uploads/2022/03/echinocereus-berlandieri-220x220.jpg 220w, https://www.oldbookillustrations.com/wp-content/uploads/2022/03/echinocereus-berlandieri-170x170.jpg 170w\" width=\"220\"/></a>\n",
              "<figcaption class=\"archive-title\"><a href=\"https://www.oldbookillustrations.com/illustrations/echinocereus-berlandieri/\"><em>Echinocereus berlandieri</em></a></figcaption></figure>\n",
              "</li>\n",
              "<li>\n",
              "<figure><a href=\"https://www.oldbookillustrations.com/illustrations/echinocereus-dasyacanthus/\"><img alt=\"Botanical steel engraving showing Echinocereus dasyacanthus, a plant in the family Cactaceae\" class=\"archive-image focus wp-post-image\" height=\"220\" sizes=\"(max-width: 220px) 100vw, 220px\" src=\"https://www.oldbookillustrations.com/wp-content/uploads/2022/03/echinocereus-dasyacanthus-220x220.jpg\" srcset=\"https://www.oldbookillustrations.com/wp-content/uploads/2022/03/echinocereus-dasyacanthus-220x220.jpg 220w, https://www.oldbookillustrations.com/wp-content/uploads/2022/03/echinocereus-dasyacanthus-170x170.jpg 170w\" width=\"220\"/></a>\n",
              "<figcaption class=\"archive-title\"><a href=\"https://www.oldbookillustrations.com/illustrations/echinocereus-dasyacanthus/\"><em>Echinocereus dasyacanthus</em></a></figcaption></figure>\n",
              "</li>\n",
              "<li>\n",
              "<figure><a href=\"https://www.oldbookillustrations.com/illustrations/coryphantha-echinus/\"><img alt=\"Botanical steel engraving showing Coryphantha echinus, a plant in the family Cactaceae\" class=\"archive-image focus wp-post-image\" height=\"220\" sizes=\"(max-width: 220px) 100vw, 220px\" src=\"https://www.oldbookillustrations.com/wp-content/uploads/2022/03/coryphantha-echinus-220x220.jpg\" srcset=\"https://www.oldbookillustrations.com/wp-content/uploads/2022/03/coryphantha-echinus-220x220.jpg 220w, https://www.oldbookillustrations.com/wp-content/uploads/2022/03/coryphantha-echinus-170x170.jpg 170w\" width=\"220\"/></a>\n",
              "<figcaption class=\"archive-title\"><a href=\"https://www.oldbookillustrations.com/illustrations/coryphantha-echinus/\"><em>Coryphantha echinus</em></a></figcaption></figure>\n",
              "</li>\n",
              "<li>\n",
              "<figure><a href=\"https://www.oldbookillustrations.com/illustrations/mammillaria-meiacantha/\"><img alt=\"Botanical plate showing various subspecies of Mammillaria heyderi, a plant in the family Cactaceae\" class=\"archive-image focus wp-post-image\" height=\"220\" sizes=\"(max-width: 220px) 100vw, 220px\" src=\"https://www.oldbookillustrations.com/wp-content/uploads/2022/03/mammillaria-meiacantha-220x220.jpg\" srcset=\"https://www.oldbookillustrations.com/wp-content/uploads/2022/03/mammillaria-meiacantha-220x220.jpg 220w, https://www.oldbookillustrations.com/wp-content/uploads/2022/03/mammillaria-meiacantha-170x170.jpg 170w\" width=\"220\"/></a>\n",
              "<figcaption class=\"archive-title\"><a href=\"https://www.oldbookillustrations.com/illustrations/mammillaria-meiacantha/\">Various Subspecies of <em>Mammillaria heyderi</em></a></figcaption></figure>\n",
              "</li>\n",
              "<li>\n",
              "<figure><a href=\"https://www.oldbookillustrations.com/illustrations/mammillaria-grahamii/\"><img alt=\"Steel engraving showing Mammillaria grahamii and M. barbata, two plants in the Cactaceae family\" class=\"archive-image focus wp-post-image\" height=\"220\" sizes=\"(max-width: 220px) 100vw, 220px\" src=\"https://www.oldbookillustrations.com/wp-content/uploads/2022/03/mamillaria-grahamii-220x220.jpg\" srcset=\"https://www.oldbookillustrations.com/wp-content/uploads/2022/03/mamillaria-grahamii-220x220.jpg 220w, https://www.oldbookillustrations.com/wp-content/uploads/2022/03/mamillaria-grahamii-170x170.jpg 170w\" width=\"220\"/></a>\n",
              "<figcaption class=\"archive-title\"><a href=\"https://www.oldbookillustrations.com/illustrations/mammillaria-grahamii/\"><em>Mammillaria grahamii</em> &amp; <em>M. barbata</em></a></figcaption></figure>\n",
              "</li>\n",
              "</ul>\n",
              "</div>\n",
              "</section>\n",
              "<nav class=\"navigation archive-pagination\" role=\"navigation\">\n",
              "<div class=\"screen-reader-text\">archive navigation</div>\n",
              "<!--<div class=\"nav-links\">-->\n",
              "<div class=\"wp-pagenavi\" role=\"navigation\">\n",
              "<span class=\"pages\">Page 1 of 349</span><span aria-current=\"page\" class=\"current\">1</span><a class=\"page larger\" href=\"https://www.oldbookillustrations.com/illustrations/page/2/\" title=\"Page 2\">2</a><a class=\"page larger\" href=\"https://www.oldbookillustrations.com/illustrations/page/3/\" title=\"Page 3\">3</a><a class=\"page larger\" href=\"https://www.oldbookillustrations.com/illustrations/page/4/\" title=\"Page 4\">4</a><a class=\"page larger\" href=\"https://www.oldbookillustrations.com/illustrations/page/5/\" title=\"Page 5\">5</a><span class=\"extend\">...</span><a class=\"larger page\" href=\"https://www.oldbookillustrations.com/illustrations/page/10/\" title=\"Page 10\">10</a><a class=\"larger page\" href=\"https://www.oldbookillustrations.com/illustrations/page/20/\" title=\"Page 20\">20</a><a class=\"larger page\" href=\"https://www.oldbookillustrations.com/illustrations/page/30/\" title=\"Page 30\">30</a><span class=\"extend\">...</span><a aria-label=\"Next Page\" class=\"nextpostslink\" href=\"https://www.oldbookillustrations.com/illustrations/page/2/\" rel=\"next\">❯</a><a aria-label=\"Last Page\" class=\"last\" href=\"https://www.oldbookillustrations.com/illustrations/page/349/\">Last »</a>\n",
              "</div> <!--</div>--><!-- .nav-links -->\n",
              "</nav><!-- .navigation -->\n",
              "<div class=\"clear\"><p class=\"go-up\"><a href=\"#\">▲ Top</a></p></div>\n",
              "</main><!-- #content -->\n",
              "</div><!-- #primary -->\n",
              "<div class=\"sidebar-container clear\" id=\"tertiary\" itemscope=\"\" itemtype=\"https://schema.org/WPSideBar\" role=\"complementary\">\n",
              "<div class=\"sidebar-inner\">\n",
              "<div class=\"widget-area\">\n",
              "<p class=\"sidebar-pat-link\"><a href=\"#patlogin\">Patron Login</a></p>\n",
              "<div class=\"login-side\" id=\"patlogin\"><div class=\"pat-logform\">\n",
              "<form action=\"https://www.oldbookillustrations.com/wp-login.php\" id=\"loginform\" method=\"post\" name=\"loginform\">\n",
              "<p class=\"login-username\">\n",
              "<label for=\"user_login\">Username</label>\n",
              "<input class=\"input\" id=\"user_login\" name=\"log\" size=\"20\" type=\"text\" value=\"\"/>\n",
              "</p>\n",
              "<p class=\"login-password\">\n",
              "<label for=\"user_pass\">Password</label>\n",
              "<input class=\"input\" id=\"user_pass\" name=\"pwd\" size=\"20\" type=\"password\" value=\"\"/>\n",
              "</p>\n",
              "<p class=\"login-remember\"><label><input id=\"rememberme\" name=\"rememberme\" type=\"checkbox\" value=\"forever\"/> Remember Me</label></p>\n",
              "<p class=\"login-submit\">\n",
              "<input class=\"button button-primary\" id=\"wp-submit\" name=\"wp-submit\" type=\"submit\" value=\"Log In\"/>\n",
              "<input name=\"redirect_to\" type=\"hidden\" value=\"https://www.oldbookillustrations.com/illustrations/\"/>\n",
              "</p>\n",
              "</form><p class=\"login-side-close\"><b>×</b> <a href=\"#top\">Close</a></p></div></div>\n",
              "<aside class=\"widget\">\n",
              "<div class=\"obi-side\">\n",
              "<a href=\"https://www.oldbookillustrations.com/\"><img alt=\"Old Book Illustrations\" class=\"obi-logo\" height=\"1\" src=\"https://www.oldbookillustrations.com/wp-content/themes/obi_theme/images/blank.png\" width=\"1\"/></a>\n",
              "<p class=\"support\"><strong>Support us <a class=\"out\" href=\"https://www.patreon.com/oldbookillustrations\">on Patreon</a></strong><br/>and enjoy the perks</p>\n",
              "<nav itemscope=\"\" itemtype=\"https://schema.org/SiteNavigationElement\">\n",
              "<div>Illustrations</div>\n",
              "<ul preload=\"\">\n",
              "<li><a href=\"/artists/\">Artists</a></li>\n",
              "<li><a href=\"/engravers/\">Engravers</a></li>\n",
              "<li><a href=\"/formats/\">Formats</a></li>\n",
              "<li><a href=\"/publishers/\">Publishers</a></li>\n",
              "<li><a href=\"/subjects/\">Subjects</a></li>\n",
              "<li><a href=\"/techniques/\">Techniques</a></li>\n",
              "<li><a href=\"/titles/\">Titles</a></li>\n",
              "</ul>\n",
              "<div>Articles</div>\n",
              "<ul preload=\"\">\n",
              "<li><a href=\"/editorial/illustrators/\">Illustrators</a></li>\n",
              "<li><a href=\"/editorial/on-books/\">On Books</a></li>\n",
              "</ul>\n",
              "</nav>\n",
              "<div>Widgets</div>\n",
              "<ul class=\"no-style no-mo\" preload=\"\">\n",
              "<li class=\"no-mo\">Old book illustrations for your site? Try <a href=\"/widgets/\">our widgets</a>!</li>\n",
              "</ul>\n",
              "</div><!-- .obi-side -->\n",
              "</aside><!-- widget -->\n",
              "</div><!-- .widget-area -->\n",
              "</div><!-- .sidebar-inner -->\n",
              "</div><!-- #tertiary -->\n",
              "</div><!-- #main -->\n",
              "<footer class=\"site-footer\" id=\"colophon\" itemscope=\"\" itemtype=\"https://schema.org/WPFooter\">\n",
              "<div class=\"sidebar-container low-foot clear\" id=\"secondary\" role=\"complementary\">\n",
              "<div class=\"centered-wrapper\">\n",
              "<section class=\"footer-links\" itemscope=\"\" itemtype=\"https://schema.org/SiteNavigationElement\">\n",
              "<h3><span class=\"browse-footer\">Browse</span> Illustrations</h3>\n",
              "<ul>\n",
              "<li><a href=\"/artists/\">Artists</a></li>\n",
              "<li><a href=\"/engravers/\">Engravers</a></li>\n",
              "<li><a href=\"/formats/\">Formats</a></li>\n",
              "<li><a href=\"/publishers/\">Publishers</a></li>\n",
              "<li><a href=\"/subjects/\">Subjects</a></li>\n",
              "<li><a href=\"/techniques/\">Techniques</a></li>\n",
              "<li><a href=\"/titles/\">Titles</a></li>\n",
              "</ul>\n",
              "</section>\n",
              "<section class=\"footer-links\" itemscope=\"\" itemtype=\"https://schema.org/SiteNavigationElement\">\n",
              "<h3><span class=\"browse-footer\">Browse</span> Articles</h3>\n",
              "<ul>\n",
              "<li><a href=\"/editorial/illustrators/\">Illustrators</a></li>\n",
              "<li><a href=\"/editorial/on-books/\">On Books</a></li>\n",
              "</ul>\n",
              "</section>\n",
              "<section class=\"footer-links\" itemscope=\"\" itemtype=\"https://schema.org/SiteNavigationElement\">\n",
              "<h3>Site Info</h3>\n",
              "<ul>\n",
              "<li><a href=\"/terms-of-use/\">Terms of use</a></li>\n",
              "<li><a href=\"/privacy-policy/\">Privacy policy</a></li>\n",
              "<li><a href=\"/about/\">About</a></li>\n",
              "<li><a href=\"/navigation-how-to/\">Navigation how-to</a></li>\n",
              "<li><a href=\"/web-sitemap/\">Sitemap</a></li>\n",
              "</ul>\n",
              "</section>\n",
              "<section class=\"footer-links\" itemscope=\"\" itemtype=\"https://schema.org/SiteNavigationElement\">\n",
              "<h3>Connect</h3>\n",
              "<ul>\n",
              "<li><a href=\"https://www.patreon.com/oldbookillustrations\">Patreon</a></li>\n",
              "<li><a href=\"https://twitter.com/obillustrations\">Follow on Twitter</a></li>\n",
              "<li><script type=\"text/javascript\">\n",
              "<!--\n",
              "// Email obfuscator script 2.1 by Tim Williams, University of Arizona\n",
              "// Random encryption key feature coded by Andrew Moulden\n",
              "// This code is freeware provided these four comment lines remain intact\n",
              "// A wizard to generate this code is at http://www.jottings.com/obfuscator/\n",
              "{ coded = \"xCSG9xG@C8qKCCya88kYGb9GaCSY.xCc\"\n",
              "  key = \"sWw8bgEMZeC1jVPvnBdLpIkcJA56Ga4NYlrRK7fQoUHzXhD3S2qTumyxFOti09\"\n",
              "  shift=coded.length\n",
              "  link=\"\"\n",
              "  for (i=0; i<coded.length; i++) {\n",
              "    if (key.indexOf(coded.charAt(i))==-1) {\n",
              "      ltr = coded.charAt(i)\n",
              "      link += (ltr)\n",
              "    }\n",
              "    else {     \n",
              "      ltr = (key.indexOf(coded.charAt(i))-shift+key.length) % key.length\n",
              "      link += (key.charAt(ltr))\n",
              "    }\n",
              "  }\n",
              "document.write(\"<a href='mailto:\"+link+\"'>Contact</a>\")\n",
              "}\n",
              "//-->\n",
              "</script><noscript>You can contact us at: contact <em>at</em> our domain name.</noscript>\n",
              "</li>\n",
              "<li><a href=\"/press/\">Reviews</a></li>\n",
              "</ul>\n",
              "</section>\n",
              "</div>\n",
              "</div><!-- #secondary -->\n",
              "<div class=\"site-info\">\n",
              "\t\t\t\tCopyright Old Book Illustrations 2007-2022\t\t\t\t\t\t\t\t\n",
              "\t\t\t</div><!-- .site-info -->\n",
              "<div class=\"eupopup eupopup-bottom eupopup-style-compact\"></div>\n",
              "</footer><!-- #colophon -->\n",
              "<nav id=\"slide-nav\" itemscope=\"\" itemtype=\"http://schema.org/SiteNavigationElement\">\n",
              "<a aria-label=\"Close Navigation\" class=\"nav-close\" href=\"#\">\n",
              "<!-- <svg width=\"23\" height=\"20\">\n",
              "   \t\t\t\t \t<g id=\"hamburger-2\">\n",
              "    \t\t\t\t\t<path d=\"M0,2 23,2\" stroke-width=\"3\"/>\n",
              "    \t\t\t\t\t<path d=\"M0,10 23,10\" stroke-width=\"3\"/>\n",
              "    \t\t\t\t\t<path d=\"M0,18 23,18\" stroke-width=\"3\"/>\n",
              "    \t\t\t\t\t</g>\n",
              "\t\t\t\t</svg> -->\n",
              "\t\t\t\t×\n",
              "\t\t\t</a>\n",
              "<ul>\n",
              "<li><a href=\"http://www.oldbookillustrations.com/illustrations/\">All Illustrations</a></li>\n",
              "<li><a href=\"http://www.oldbookillustrations.com/artists/\">Artists</a></li>\n",
              "<li><a href=\"http://www.oldbookillustrations.com/engravers/\">Engravers</a></li>\n",
              "<li><a href=\"http://www.oldbookillustrations.com/formats/\">Formats</a></li>\n",
              "<li><a href=\"http://www.oldbookillustrations.com/publishers/\">Publishers</a></li>\n",
              "<li><a href=\"http://www.oldbookillustrations.com/subjects/\">Subjects</a></li>\n",
              "<li><a href=\"http://www.oldbookillustrations.com/techniques/\">Techniques</a></li>\n",
              "<li class=\"titles\"><a href=\"http://www.oldbookillustrations.com/titles/\">Titles</a></li>\n",
              "<li><a href=\"http://www.oldbookillustrations.com/editorial/illustrators/\">Illustrators</a></li>\n",
              "<li><a href=\"http://www.oldbookillustrations.com/editorial/on-books/\">On Books</a></li>\n",
              "</ul>\n",
              "</nav>\n",
              "</div><!-- #page -->\n",
              "<script defer=\"defer\" src=\"https://www.oldbookillustrations.com/wp-content/themes/obi_theme/js/functions.js?ver=v1.1.4\" type=\"text/javascript\"></script>\n",
              "<script defer=\"defer\" src=\"https://www.oldbookillustrations.com/wp-includes/js/wp-embed.min.js?ver=4.9.20\" type=\"text/javascript\"></script>\n",
              "</body>\n",
              "</html>"
            ]
          },
          "metadata": {},
          "execution_count": 135
        }
      ]
    },
    {
      "cell_type": "markdown",
      "source": [
        "On veut récupérer les informations de toutes les illustrations de la page sous forme d'une liste.\n",
        "\n",
        "Chaque élément de la liste sera un dictionnaire :\n",
        "\n",
        "```\n",
        "{\n",
        "  \"url\": *Lien vers la page de l'illustration*,\n",
        "  \"alt\": *Titre de l'illustration*,\n",
        "  \"src\": *Lien vers l'image (icone)*,\n",
        "}\n",
        "```\n",
        "\n",
        "Créer une fonction `scrape_infos` telle que lorsqu'on lui donne la variable `soup` définie précédemment, elle renvoie la liste des dictionnaires ci-dessus, contenant l'information de chaque élément de la page."
      ],
      "metadata": {
        "id": "sCE2N_hMJoD9"
      }
    },
    {
      "cell_type": "code",
      "source": [
        "# CELLULE A COMPLETER\n",
        "\n",
        "def scrape_infos(soup):\n",
        "  list_dict = []\n",
        "  imgs = soup.find_all(\"figure\") #Selectionner les blocs d'image\n",
        "  for img in range(0, len(imgs)) :\n",
        "    dict_img = {\"url\": imgs[img].a[\"href\"],\n",
        "                \"src\": imgs[img].img[\"src\"],\n",
        "                \"alt\": imgs[img].img[\"alt\"]} #selectionner le texte qui correspond au titre de l'illustration\n",
        "    list_dict.append(dict_img)\n",
        "  return list_dict"
      ],
      "metadata": {
        "id": "Bmc8Ozk8IivA"
      },
      "execution_count": 136,
      "outputs": []
    },
    {
      "cell_type": "code",
      "source": [
        "scrape_infos(soup)"
      ],
      "metadata": {
        "id": "SLmr65Y5wBS3",
        "colab": {
          "base_uri": "https://localhost:8080/"
        },
        "outputId": "e6707184-0bcd-4057-8157-1c71dc7c22e3"
      },
      "execution_count": 137,
      "outputs": [
        {
          "output_type": "execute_result",
          "data": {
            "text/plain": [
              "[{'alt': 'A Parisian couple walks in the street, wrapped up in warm clothes and sickly, sniffling along',\n",
              "  'src': 'https://www.oldbookillustrations.com/wp-content/uploads/2022/05/flu-paris-220x220.jpg',\n",
              "  'url': 'https://www.oldbookillustrations.com/illustrations/flu-paris/'},\n",
              " {'alt': 'Parisians are out at night, tilting their heads back to catch a glimpse of the comet of 1857',\n",
              "  'src': 'https://www.oldbookillustrations.com/wp-content/uploads/2022/05/waiting-for-comet-220x220.jpg',\n",
              "  'url': 'https://www.oldbookillustrations.com/illustrations/waiting-for-comet/'},\n",
              " {'alt': 'Three women take a solemn oath over the top hat one of them is holding',\n",
              "  'src': 'https://www.oldbookillustrations.com/wp-content/uploads/2022/05/sacred-duty-220x220.jpg',\n",
              "  'url': 'https://www.oldbookillustrations.com/illustrations/sacred-duty/'},\n",
              " {'alt': 'A crowd of travelers is standing on a railway platform, enduring a long wait under the rain',\n",
              "  'src': 'https://www.oldbookillustrations.com/wp-content/uploads/2022/05/extended-station-220x220.jpg',\n",
              "  'url': 'https://www.oldbookillustrations.com/illustrations/extended-station/'},\n",
              " {'alt': 'A high-strung kitchen boy breaks a bit of annoying news to a more lackadaisical chef',\n",
              "  'src': 'https://www.oldbookillustrations.com/wp-content/uploads/2022/05/lost-sponge-220x220.jpg',\n",
              "  'url': 'https://www.oldbookillustrations.com/illustrations/lost-sponge/'},\n",
              " {'alt': 'A yman sitting at a restaurant table pulls a long hair out of his mouth with a disgusted grimace',\n",
              "  'src': 'https://www.oldbookillustrations.com/wp-content/uploads/2022/05/bald-soup-220x220.jpg',\n",
              "  'url': 'https://www.oldbookillustrations.com/illustrations/bald-soup/'},\n",
              " {'alt': 'Botanical steel engraving showing Grusonia grahamii, a plant in the family Cactaceae',\n",
              "  'src': 'https://www.oldbookillustrations.com/wp-content/uploads/2022/03/grusonia-grahamii-220x220.jpg',\n",
              "  'url': 'https://www.oldbookillustrations.com/illustrations/grusonia-grahamii/'},\n",
              " {'alt': 'Botanical steel engraving showing Echinocereus berlandieri, a plant in the family Cactaceae',\n",
              "  'src': 'https://www.oldbookillustrations.com/wp-content/uploads/2022/03/echinocereus-berlandieri-220x220.jpg',\n",
              "  'url': 'https://www.oldbookillustrations.com/illustrations/echinocereus-berlandieri/'},\n",
              " {'alt': 'Botanical steel engraving showing Echinocereus dasyacanthus, a plant in the family Cactaceae',\n",
              "  'src': 'https://www.oldbookillustrations.com/wp-content/uploads/2022/03/echinocereus-dasyacanthus-220x220.jpg',\n",
              "  'url': 'https://www.oldbookillustrations.com/illustrations/echinocereus-dasyacanthus/'},\n",
              " {'alt': 'Botanical steel engraving showing Coryphantha echinus, a plant in the family Cactaceae',\n",
              "  'src': 'https://www.oldbookillustrations.com/wp-content/uploads/2022/03/coryphantha-echinus-220x220.jpg',\n",
              "  'url': 'https://www.oldbookillustrations.com/illustrations/coryphantha-echinus/'},\n",
              " {'alt': 'Botanical plate showing various subspecies of Mammillaria heyderi, a plant in the family Cactaceae',\n",
              "  'src': 'https://www.oldbookillustrations.com/wp-content/uploads/2022/03/mammillaria-meiacantha-220x220.jpg',\n",
              "  'url': 'https://www.oldbookillustrations.com/illustrations/mammillaria-meiacantha/'},\n",
              " {'alt': 'Steel engraving showing Mammillaria grahamii and M. barbata, two plants in the Cactaceae family',\n",
              "  'src': 'https://www.oldbookillustrations.com/wp-content/uploads/2022/03/mamillaria-grahamii-220x220.jpg',\n",
              "  'url': 'https://www.oldbookillustrations.com/illustrations/mammillaria-grahamii/'}]"
            ]
          },
          "metadata": {},
          "execution_count": 137
        }
      ]
    },
    {
      "cell_type": "code",
      "source": [
        "#Executer cette cellule pour vérifier qu'on a bien les bons résultats\n",
        "\n",
        "try :\n",
        "  list_dict = scrape_infos(soup)\n",
        "  assert len(list_dict) == 12\n",
        "  assert list_dict[-1][\"alt\"] == \"Ciampolo stands against a background of waves and flames as a devil tears at his arm with a hook\"\n",
        "  assert list_dict[2][\"src\"] == \"https://www.oldbookillustrations.com/wp-content/uploads/2022/03/echinocereus-dasyacanthus-220x220.jpg\"\n",
        "  assert list_dict[1][\"url\"] == \"https://www.oldbookillustrations.com/illustrations/echinocereus-berlandieri/\"\n",
        "  print(\"OK\")\n",
        "except :\n",
        "  print(\"Il y a une erreur dans ton code, pense à récupérer le contenu textuel des balises avec .get_text() par exemple\")"
      ],
      "metadata": {
        "id": "zo_RlhWKI7NU",
        "colab": {
          "base_uri": "https://localhost:8080/"
        },
        "outputId": "497b05cd-dad4-4ab5-f5a2-23fc67741fee"
      },
      "execution_count": 138,
      "outputs": [
        {
          "output_type": "stream",
          "name": "stdout",
          "text": [
            "Il y a une erreur dans ton code, pense à récupérer le contenu textuel des balises avec .get_text() par exemple\n"
          ]
        }
      ]
    },
    {
      "cell_type": "markdown",
      "source": [
        "### Scraper les détails d'une illustration (12 points)"
      ],
      "metadata": {
        "id": "YUb1otP3IwZ6"
      }
    },
    {
      "cell_type": "markdown",
      "source": [
        "Maintenant qu'on a récupéré la liste des illustrations de la page, on aimerait récupérer davantage d'informations sur la page de chaque illustration.\n",
        "\n",
        "On va s'intéresser à une seule page dans l'exemple, mais le code doit être généralisable à n'importe quelle page d'illustration sur le site.\n",
        "\n",
        "L'illustration dont on va tirer les informations est la suivante : https://www.oldbookillustrations.com/illustrations/echinocereus-berlandieri/"
      ],
      "metadata": {
        "id": "pXJgQ5RamJSm"
      }
    },
    {
      "cell_type": "code",
      "source": [
        "#Dans cette cellule, on effectue la requête vers la page à scraper afin de récupérer l'HTML.\n",
        "#Afin que personne ne soit bloqué, le code est déjà écrit\n",
        "\n",
        "url = \"https://www.oldbookillustrations.com/illustrations/echinocereus-berlandieri/\"\n",
        "response = requests.get(url, headers=headers)\n",
        "if not response.ok :\n",
        "  html = response.text\n",
        "else :\n",
        "  #Si jamais la requête est refusée, l'HTML va être récupérée d'une archive\n",
        "  !wget https://raw.githubusercontent.com/giganttheo/cours/master/scraping/echinocereus.html\n",
        "  with open(\"./echinocereus.html\", \"r\") as f:\n",
        "    html = f.read()"
      ],
      "metadata": {
        "id": "K9V3sWtnotJv",
        "colab": {
          "base_uri": "https://localhost:8080/"
        },
        "outputId": "6c55d428-b48a-443c-c8da-7fcbcd915bc1"
      },
      "execution_count": 140,
      "outputs": [
        {
          "output_type": "stream",
          "name": "stdout",
          "text": [
            "--2022-05-25 15:04:52--  https://raw.githubusercontent.com/giganttheo/cours/master/scraping/echinocereus.html\n",
            "Resolving raw.githubusercontent.com (raw.githubusercontent.com)... 185.199.110.133, 185.199.111.133, 185.199.109.133, ...\n",
            "Connecting to raw.githubusercontent.com (raw.githubusercontent.com)|185.199.110.133|:443... connected.\n",
            "HTTP request sent, awaiting response... 200 OK\n",
            "Length: 30583 (30K) [text/plain]\n",
            "Saving to: ‘echinocereus.html.4’\n",
            "\n",
            "\rechinocereus.html.4   0%[                    ]       0  --.-KB/s               \rechinocereus.html.4 100%[===================>]  29.87K  --.-KB/s    in 0s      \n",
            "\n",
            "2022-05-25 15:04:52 (116 MB/s) - ‘echinocereus.html.4’ saved [30583/30583]\n",
            "\n"
          ]
        }
      ]
    },
    {
      "cell_type": "code",
      "source": [
        "soup = BeautifulSoup(html, \"html.parser\")\n",
        "soup"
      ],
      "metadata": {
        "id": "MvONxgwAsN33",
        "colab": {
          "base_uri": "https://localhost:8080/"
        },
        "outputId": "8069ffea-f084-414b-cedb-88af1d119824"
      },
      "execution_count": 141,
      "outputs": [
        {
          "output_type": "execute_result",
          "data": {
            "text/plain": [
              " <!DOCTYPE html>\n",
              "\n",
              "<!--[if IE 7]>\n",
              "\t<html class=\"ie ie7\" lang=\"en-US\">\n",
              "\t<![endif]-->\n",
              "<!--[if IE 8]>\n",
              "\t<html class=\"ie ie8\" lang=\"en-US\">\n",
              "\t<![endif]-->\n",
              "<!--[if !(IE 7) & !(IE 8)]><!-->\n",
              "<html lang=\"en-US\">\n",
              "<!--<![endif]-->\n",
              "<head>\n",
              "<meta charset=\"utf-8\"/>\n",
              "<meta content=\"width=device-width\" name=\"viewport\"/>\n",
              "<title>Echinocereus berlandieri – Old Book Illustrations</title>\n",
              "<link href=\"https://www.oldbookillustrations.com/wp-content/plugins/obi-related-illustrations/includes/assets/css/styles.css?ver=4.9.20\" id=\"related-posts-by-taxonomy-css\" media=\"all\" rel=\"stylesheet\" type=\"text/css\"/>\n",
              "<link href=\"https://www.oldbookillustrations.com/wp-content/plugins/wp-pagenavi/pagenavi-css.css?ver=2.70\" id=\"wp-pagenavi-css\" media=\"all\" rel=\"stylesheet\" type=\"text/css\"/>\n",
              "<link href=\"https://www.oldbookillustrations.com/wp-content/themes/obi_theme/style.css?ver=5.4.3\" id=\"obi-style-css\" media=\"all\" rel=\"stylesheet\" type=\"text/css\"/>\n",
              "<link href=\"https://www.oldbookillustrations.com/wp-content/themes/obi_theme/css/pagenavi-css.min.css?ver=1.0.1\" id=\"obi-pagination-css\" media=\"all\" rel=\"stylesheet\" type=\"text/css\"/>\n",
              "<link href=\"https://www.oldbookillustrations.com/wp-content/themes/obi_theme/genericons/genericons.css?ver=3.03\" id=\"genericons-css\" media=\"all\" rel=\"stylesheet\" type=\"text/css\"/>\n",
              "<!--[if lt IE 9]>\n",
              "<link rel='stylesheet' id='obi-ie-css'  href='https://www.oldbookillustrations.com/wp-content/themes/obi_theme/css/ie.css?ver=1.0.1' type='text/css' media='all' />\n",
              "<![endif]-->\n",
              "<script src=\"https://www.oldbookillustrations.com/wp-includes/js/jquery/jquery.js?ver=1.12.4\" type=\"text/javascript\"></script>\n",
              "<script defer=\"defer\" src=\"https://www.oldbookillustrations.com/wp-includes/js/jquery/jquery-migrate.min.js?ver=1.4.1\" type=\"text/javascript\"></script>\n",
              "<script defer=\"defer\" src=\"https://www.oldbookillustrations.com/wp-content/themes/obi_theme/js/htmx.min.js?ver=1\" type=\"text/javascript\"></script>\n",
              "<script defer=\"defer\" src=\"https://www.oldbookillustrations.com/wp-content/themes/obi_theme/js/htmx-preload.min.js?ver=1\" type=\"text/javascript\"></script>\n",
              "<script defer=\"defer\" src=\"https://www.oldbookillustrations.com/wp-content/themes/obi_theme/js/lightbox.min.js?ver=1.0.1\" type=\"text/javascript\"></script>\n",
              "<link href=\"https://www.oldbookillustrations.com/illustrations/echinocereus-berlandieri/\" rel=\"canonical\"/>\n",
              "<link href=\"https://www.oldbookillustrations.com/wp-json/\" rel=\"https://api.w.org/\"/>\n",
              "<link href=\"https://www.oldbookillustrations.com/illustrations/echinocereus-dasyacanthus/\" rel=\"prev\" title=\"Echinocereus dasyacanthus\"/>\n",
              "<link href=\"https://www.oldbookillustrations.com/illustrations/grusonia-grahamii/\" rel=\"next\" title=\"Grusonia grahamii\"/>\n",
              "<link href=\"https://www.oldbookillustrations.com/wp-json/oembed/1.0/embed?url=https%3A%2F%2Fwww.oldbookillustrations.com%2Fillustrations%2Fechinocereus-berlandieri%2F\" rel=\"alternate\" type=\"application/json+oembed\"/>\n",
              "<link href=\"https://www.oldbookillustrations.com/wp-json/oembed/1.0/embed?url=https%3A%2F%2Fwww.oldbookillustrations.com%2Fillustrations%2Fechinocereus-berlandieri%2F&amp;format=xml\" rel=\"alternate\" type=\"text/xml+oembed\"/>\n",
              "<script type=\"text/javascript\">\n",
              "\twindow._se_plugin_version = '8.1.9';\n",
              "</script>\n",
              "<link href=\"https://www.oldbookillustrations.com/feed/\" rel=\"alternate\" title=\"RSS 2.0 Feed\" type=\"application/rss+xml\"/> <style type=\"text/css\">.recentcomments a{display:inline !important;padding:0 !important;margin:0 !important;}</style>\n",
              "<link href=\"https://www.oldbookillustrations.com/illustrations/echinocereus-berlandieri/amp/\" rel=\"amphtml\"/>\n",
              "<meta content=\"Botanical steel engraving showing Echinocereus berlandieri, a plant in the family Cactaceae, native to Mexico and the United States\" name=\"description\"/>\n",
              "<link href=\"https://www.oldbookillustrations.com/favicon.ico?ver=1.1.0\" rel=\"icon\" sizes=\"32x32\" type=\"image/png\"/>\n",
              "<link href=\"https://www.oldbookillustrations.com/favicon-32x32.png?ver=1.1.0\" rel=\"icon\" sizes=\"32x32\" type=\"image/png\"/>\n",
              "<link href=\"https://www.oldbookillustrations.com/favicon-96x96.png?ver=1.1.0\" rel=\"icon\" sizes=\"96x96\" type=\"image/png\"/>\n",
              "<link href=\"https://www.oldbookillustrations.com/android-chrome-192x192.png?ver=1.1.0\" rel=\"icon\" sizes=\"192x192\" type=\"image/png\"/>\n",
              "<link href=\"https://www.oldbookillustrations.com/favicon-16x16.png?ver=1.1.0\" rel=\"icon\" sizes=\"16x16\" type=\"image/png\"/>\n",
              "<!--[if IE]>\n",
              "\t\t<link rel=\"stylesheet\" type=\"text/css\" href=\"https://www.oldbookillustrations.com/wp-content/themes/obi_theme/css/ie-only.v2.css\" />\n",
              "\t\t<![endif]-->\n",
              "<!--[if lt IE 9]>\n",
              "\t\t<script src=\"https://www.oldbookillustrations.com/wp-content/themes/obi_theme/js/html5.js\"></script>\n",
              "\t\t<![endif]-->\n",
              "<meta content=\"sLQsUzqRMFoXQ8NoMHhY7ir9TR5RDzhhr2Fi6IuIaiE=\" name=\"verify-v1\"/>\n",
              "<meta content=\"Old Book Illustrations\" property=\"og:site_name\"/>\n",
              "<meta content=\"&lt;em&gt;Echinocereus berlandieri&lt;/em&gt; | Old Book Illustrations\" property=\"og:title\"/>\n",
              "<meta content=\"article\" property=\"og:type\"/>\n",
              "<meta content=\"www.oldbookillustrations.com/illustrations/echinocereus-berlandieri/\" property=\"og:url\"/>\n",
              "<meta content=\"https://oldbookillustrations.com/wp-content/high-res/1887/echinocereus-berlandieri-768.jpg\" property=\"og:image\"/>\n",
              "<meta content=\"Botanical steel engraving showing Echinocereus berlandieri, a plant in the family Cactaceae, native to Mexico and the United States\" property=\"og:description\"/>\n",
              "<meta content=\"summary_large_image\" name=\"twitter:card\"/>\n",
              "<meta content=\"@obillustrations\" name=\"twitter:site\"/>\n",
              "<meta content=\"&lt;em&gt;Echinocereus berlandieri&lt;/em&gt; Old Book Illustrations\" name=\"twitter:title\"/>\n",
              "<meta content=\"Botanical steel engraving showing Echinocereus berlandieri, a plant in the family Cactaceae, native to Mexico and the United States\" name=\"twitter:description\"/>\n",
              "<meta content=\"https://oldbookillustrations.com/wp-content/high-res/1887/echinocereus-berlandieri-768.jpg\" name=\"twitter:image\"/>\n",
              "</head>\n",
              "<body class=\"illustration-template-default single single-illustration postid-12049 sidebar\" hx-ext=\"preload\" itemscope=\"\" itemtype=\"https://schema.org/WebPage\">\n",
              "<div class=\"hfeed site\" id=\"page\">\n",
              "<header class=\"site-header not-home clear\" id=\"masthead\" itemscope=\"\" itemtype=\"https://schema.org/WPHeader\">\n",
              "<div class=\"navbar\" id=\"navbar\">\n",
              "<a class=\"navbar-logo\" href=\"https://www.oldbookillustrations.com/\">Home</a>\n",
              "<nav class=\"navigation main-navigation\" id=\"site-navigation\" itemscope=\"\" itemtype=\"https://schema.org/SiteNavigationElement\">\n",
              "<button class=\"menu-toggle\">Menu</button>\n",
              "<a class=\"screen-reader-text skip-link\" href=\"#content\" title=\"Skip to content\">Skip to content</a>\n",
              "<div class=\"menu-menu-1-container\"><ul class=\"nav-menu\" id=\"menu-menu-1\" preload=\"\">\n",
              "<li class=\"menu-item menu-item-object-page \" id=\"menu-item-1773\"><a href=\"https://www.oldbookillustrations.com/illustrations/\">All Illustrations</a></li>\n",
              "<li class=\"menu-item menu-item-object-page\" id=\"menu-item-1770\"><a href=\"https://www.oldbookillustrations.com/advanced-search/\">Advanced Search</a></li>\n",
              "<li class=\"menu-item menu-item-object-page \" id=\"menu-item-1776\"><a href=\"https://www.oldbookillustrations.com/tags/\">Tags</a></li>\n",
              "<li class=\"menu-item\" id=\"menu-item-1774\"><a href=\"https://www.oldbookillustrations.com/dictionary/contents/index\">Dictionary of Printing</a></li>\n",
              "<!--<li id=\"menu-item-1775\" class=\"menu-item menu-item-type-custom\"><a href=\"https://scrap.oldbookillustrations.com/\">Blog</a></li>-->\n",
              "</ul></div> </nav><!-- #site-navigation -->\n",
              "</div><!-- #navbar -->\n",
              "<div class=\"alt-home-link\"><p class=\"alt-site-title\" itemprop=\"headline\"><a href=\"https://www.oldbookillustrations.com/\" preload=\"\" rel=\"home\" title=\"Old Book Illustrations\">\n",
              "\t\tOld Book Illustrations</a></p>\n",
              "<form action=\"https://www.oldbookillustrations.com/\" id=\"searchform\" method=\"get\" role=\"search\">\n",
              "<label class=\"screen-reader-text\" for=\"s\">Search for</label>\n",
              "<input id=\"s\" name=\"s\" placeholder=\"Enter search terms\" type=\"search\" value=\"\"/>\n",
              "<input id=\"searchsubmit\" type=\"submit\" value=\" \"/><br/>\n",
              "<!-- <label class=\"illustrations\" for=\"illustration\"> --><input checked=\"checked\" id=\"illustration\" name=\"post_type[]\" type=\"hidden\" value=\"illustration\"/><!-- Illustrations</label> -->\n",
              "<!-- <label class=\"articles\" for=\"article\"><input type=\"checkbox\" id=\"article\" name=\"post_type[]\" value=\"article\" />Articles</label> -->\n",
              "</form> </div><!-- .alt-home-link -->\n",
              "</header><!-- #masthead -->\n",
              "<nav class=\"short-menu\" id=\"obi-device\" itemscope=\"\" itemtype=\"https://schema.org/SiteNavigationElement\"><ul><li class=\"artists\"><a href=\"/artists/\">Artists</a></li> <li class=\"formats\">| <a href=\"/formats/\">Formats</a></li> <li class=\"publishers\">| <a href=\"/publishers/\">Publishers</a></li> <li class=\"subjects\">| <a href=\"/subjects/\">Subjects</a></li> <li class=\"techniques\">| <a href=\"/techniques/\">Techniques</a></li> <li class=\"s-titles\">| <a href=\"/titles/\">Titles</a></li> <li class=\"illustrators\">|| <a href=\"/editorial/illustrators/\">Illustrators</a></li> <li class=\"on-books\">| <a href=\"/editorial/on-books/\">On Books</a></li> </ul></nav>\n",
              "<div class=\"hamburger\">\n",
              "<a href=\"#slide-nav\">\n",
              "<svg height=\"20\" width=\"23\">\n",
              "<g id=\"hamburger-1\">\n",
              "<path d=\"M0,2 23,2\" stroke-width=\"3\"></path>\n",
              "<path d=\"M0,10 23,10\" stroke-width=\"3\"></path>\n",
              "<path d=\"M0,18 23,18\" stroke-width=\"3\"></path>\n",
              "</g>\n",
              "</svg>\n",
              "</a>\n",
              "</div>\n",
              "<p class=\"patpopup-link\"><a href=\"#patron-popup\">Patron Login</a></p>\n",
              "<div class=\"overlay\" id=\"patron-popup\">\n",
              "<div class=\"login-popup\">\n",
              "<h2>Log In Form</h2>\n",
              "<a class=\"modal-close\" href=\"#\">×</a>\n",
              "<div class=\"modal-content\">\n",
              "<p>\n",
              "<form action=\"https://www.oldbookillustrations.com/wp-login.php\" id=\"loginform\" method=\"post\" name=\"loginform\">\n",
              "<p class=\"login-username\">\n",
              "<label for=\"user_login\">Username</label>\n",
              "<input class=\"input\" id=\"user_login\" name=\"log\" size=\"20\" type=\"text\" value=\"\"/>\n",
              "</p>\n",
              "<p class=\"login-password\">\n",
              "<label for=\"user_pass\">Password</label>\n",
              "<input class=\"input\" id=\"user_pass\" name=\"pwd\" size=\"20\" type=\"password\" value=\"\"/>\n",
              "</p>\n",
              "<p class=\"login-remember\"><label><input id=\"rememberme\" name=\"rememberme\" type=\"checkbox\" value=\"forever\"/> Remember Me</label></p>\n",
              "<p class=\"login-submit\">\n",
              "<input class=\"button button-primary\" id=\"wp-submit\" name=\"wp-submit\" type=\"submit\" value=\"Log In\"/>\n",
              "<input name=\"redirect_to\" type=\"hidden\" value=\"https://www.oldbookillustrations.com/illustrations/echinocereus-berlandieri/\"/>\n",
              "</p>\n",
              "</form></p></div></div></div>\n",
              "<div class=\"site-main\" id=\"main\">\n",
              "<div class=\"content-area\" id=\"primary\">\n",
              "<main class=\"site-content\" id=\"content\" itemprop=\"mainContentOfPage\" role=\"main\">\n",
              "<article class=\"illustration type-illustration published\" id=\"post-12049\" itemscope=\"\" itemtype=\"https://schema.org/VisualArtwork\">\n",
              "<ul class=\"breadcrumb\" itemscope=\"\" itemtype=\"https://schema.org/BreadcrumbList\">\n",
              "<li itemprop=\"itemListElement\" itemscope=\"\" itemtype=\"https://schema.org/ListItem\"><a class=\"hvr-underline-from-left underline\" href=\"https://www.oldbookillustrations.com/\" itemprop=\"item\"><span itemprop=\"name\">Home</span></a><meta content=\"1\" itemprop=\"position\"/></li>\n",
              "<li itemprop=\"itemListElement\" itemscope=\"\" itemtype=\"https://schema.org/ListItem\">» <a class=\"hvr-underline-from-left underline\" href=\"/illustrations\" itemprop=\"item\"><span itemprop=\"name\">Illustrations</span></a><meta content=\"2\" itemprop=\"position\"/></li>\n",
              "<li itemprop=\"itemListElement\" itemscope=\"\" itemtype=\"https://schema.org/ListItem\">» <a href=\"https://www.oldbookillustrations.com/illustrations/echinocereus-berlandieri/\" itemprop=\"item\"><span itemprop=\"name\"><em>Echinocereus berlandieri</em></span></a><meta content=\"3\" itemprop=\"position\"/></li>\n",
              "</ul>\n",
              "<header class=\"entry-header\">\n",
              "<h1 class=\"entry-title\" itemprop=\"headline\"><em>Echinocereus berlandieri</em></h1>\n",
              "</header><!-- .entry-header -->\n",
              "<div class=\"entry-content landscape\">\n",
              "<section class=\"downloads\"><h2>All Resolutions</h2>\n",
              "<p id=\"highres-dld\"><a class=\"hvr-sweep-to-bottom bordertop\" href=\"/wp-content/high-res/1887/echinocereus-berlandieri-768.jpg\">768 px</a> - <a class=\"hvr-sweep-to-bottom bordertop\" href=\"/wp-content/high-res/1887/echinocereus-berlandieri-864.jpg\">864 px</a> - <a class=\"hvr-sweep-to-bottom bordertop\" href=\"/wp-content/high-res/1887/echinocereus-berlandieri-1200.jpg\">1200 px</a> - <a class=\"hvr-sweep-to-bottom bordertop\" href=\"/wp-content/high-res/1887/echinocereus-berlandieri-1600.jpg\">1600 px</a> - <a class=\"hvr-sweep-to-bottom bordertop\" href=\"/wp-content/high-res/1887/echinocereus-berlandieri-rawscan.jpg\">Raw Scan</a>\n",
              "<span class=\"imaged-extra\">- </span><a class=\"imagedtop imaged-device\" href=\"https://edit.cartoonize.net/?via=harveyatobi\" rel=\"sponsored\">Edit Image</a></p>\n",
              "</section>\n",
              "<p></p>\n",
              "<div class=\"image-wrapper landscape section clear\">\n",
              "<figure class=\"illustration\" itemscope=\"\" itemtype=\"https://schema.org/ImageObject\">\n",
              "<a href=\"https://www.oldbookillustrations.com/wp-content/uploads/2022/03/echinocereus-berlandieri.jpg\"><img alt=\"Botanical steel engraving showing Echinocereus berlandieri, a plant in the family Cactaceae\" class=\"attachment-full size-full wp-post-image\" height=\"519\" itemprop=\"contentUrl\" sizes=\"(max-width: 680px) 100vw, 680px\" src=\"https://www.oldbookillustrations.com/wp-content/uploads/2022/03/echinocereus-berlandieri.jpg\" srcset=\"https://www.oldbookillustrations.com/wp-content/uploads/2022/03/echinocereus-berlandieri.jpg 680w, https://www.oldbookillustrations.com/wp-content/uploads/2022/03/echinocereus-berlandieri-220x168.jpg 220w\" width=\"680\"/></a> <figcaption itemprop=\"caption\"><span class=\"normal\">Cereus berlandieri</span>.<br/><span class=\"page-number\">(Plate 58.)</span></figcaption>\n",
              "</figure>\n",
              "<section class=\"info col span_1_of_3 artist-col\" itemprop=\"creator\" itemscope=\"\" itemtype=\"https://schema.org/Person\">\n",
              "<h2 class=\"artist-deflist\">Artist</h2>\n",
              "<dl preload=\"\">\n",
              "<dt class=\"artist-deflist\">Name:</dt>\n",
              "<dd class=\"artist-deflist\"><span itemprop=\"name\"><a href=\"https://www.oldbookillustrations.com/artists/roetter-paulus/\" rel=\"tag\">Roetter, Paulus</a></span></dd>\n",
              "<dt class=\"artist-deflist\">Dates:</dt>\n",
              "<dd class=\"artist-deflist\"><span itemprop=\"birthDate\"><a href=\"https://www.oldbookillustrations.com/birth-dates/1806/\" rel=\"tag\">1806</a></span>-<span itemprop=\"deathDate\"><a href=\"https://www.oldbookillustrations.com/death-dates/1894/\" rel=\"tag\">1894</a></span></dd>\n",
              "<dt class=\"artist-deflist\">Country:</dt>\n",
              "<dd class=\"artist-deflist\"><span itemprop=\"nationality\"><a href=\"https://www.oldbookillustrations.com/countries/germany/\" rel=\"tag\">Germany</a>, <a href=\"https://www.oldbookillustrations.com/countries/us/\" rel=\"tag\">US</a></span></dd>\n",
              "</dl>\n",
              "</section>\n",
              "<section class=\"info col span_1_of_3\">\n",
              "<h2>Illustration</h2>\n",
              "<dl preload=\"\">\n",
              "<dt>Subject:</dt>\n",
              "<dd><a href=\"https://www.oldbookillustrations.com/subjects/plants/\" rel=\"tag\">Plants</a></dd>\n",
              "<dt>Technique:</dt>\n",
              "<dd><span itemprop=\"artMedium\"><a href=\"https://www.oldbookillustrations.com/techniques/metal-engraving/\" rel=\"tag\">Metal engraving</a></span></dd>\n",
              "<dt>Engraver:</dt>\n",
              "<dd itemprop=\"contributor\" itemscope=\"\" itemtype=\"https://schema.org/Person\"><span itemprop=\"name\"><a href=\"https://www.oldbookillustrations.com/engravers/dougal-william-henry/\" rel=\"tag\">Dougal, William Henry</a></span></dd>\n",
              "<dt>Format:</dt>\n",
              "<dd><a href=\"https://www.oldbookillustrations.com/formats/landscape-wider/\" rel=\"tag\">Landscape (wider)</a></dd>\n",
              "<dt>Source:</dt>\n",
              "<dd class=\"out\"><a href=\"http://www.botanicus.org/page/1670659\">Botanicus</a>, <a href=\"https://archive.org/details/mobot31753002729983/page/n1/mode/2up\">the Internet Archive</a> </dd> </dl>\n",
              "</section>\n",
              "<section class=\"info col span_1_of_3\" itemprop=\"isPartOf\" itemscope=\"\" itemtype=\"https://schema.org/Book\">\n",
              "<h2>Book</h2>\n",
              "<dl preload=\"\">\n",
              "<dt>Title:</dt>\n",
              "<dd><span itemprop=\"name\"><a href=\"https://www.oldbookillustrations.com/titles/botanical-works-engelmann-plates/\" rel=\"tag\">The botanical works of the late George Engelmann (volume of plates)</a></span> </dd>\n",
              "<dt>Author(s):</dt>\n",
              "<dd itemprop=\"author\" itemscope=\"\" itemtype=\"https://schema.org/Person\"><span itemprop=\"name\"><a href=\"https://www.oldbookillustrations.com/writers/engelmann-george/\" rel=\"tag\">Engelmann, George</a></span></dd>\n",
              "<dt>Publisher:</dt>\n",
              "<dd><span itemprop=\"publisher\"><a href=\"https://www.oldbookillustrations.com/place-published/cambridge-ma/\" rel=\"tag\">Cambridge, MA</a>: <a href=\"https://www.oldbookillustrations.com/publishers/j-wilson-and-son/\" rel=\"tag\">J. Wilson and Son</a></span>, <span itemprop=\"datePublished\"><a href=\"https://www.oldbookillustrations.com/date-published/1887/\" rel=\"tag\">1887</a></span></dd>\n",
              "<dt>Open Library:</dt>\n",
              "<dd class=\"out\">View <a href=\"https://openlibrary.org/books/OL37772815M/The_botanical_works_of_the_late_George_Engelmann_%28volume_of_plates%29\" itemprop=\"sameAs\">record</a></dd> </dl>\n",
              "</section>\n",
              "</div><!-- .image-wrapper -->\n",
              "<section class=\"obi-description\">\n",
              "<h2>Description</h2>\n",
              "<div class=\"img-description\" itemprop=\"description\"><p>Botanical steel engraving showing <em>Echinocereus berlandieri</em>, a plant in the family Cactaceae, native to Mexico and the United States.</p>\n",
              "</div>\n",
              "<div class=\"entry-keywords landscape\">\n",
              "<p><span class=\"obi-keywords\">Keywords:</span> <span itemprop=\"keywords\"><a href=\"https://www.oldbookillustrations.com/tag/1880s/\" rel=\"tag\">1880s</a>, <a href=\"https://www.oldbookillustrations.com/tag/19th-century/\" rel=\"tag\">19th century</a>, <a href=\"https://www.oldbookillustrations.com/tag/black-white/\" rel=\"tag\">black &amp; white</a>, <a href=\"https://www.oldbookillustrations.com/tag/cactaceae/\" rel=\"tag\">Cactaceae</a>, <a href=\"https://www.oldbookillustrations.com/tag/flower/\" rel=\"tag\">flower</a>, <a href=\"https://www.oldbookillustrations.com/tag/reference-book/\" rel=\"tag\">reference book</a></span></p>\n",
              "<p class=\"dld-record\"><a href=\"https://www.oldbookillustrations.com/wp-content/files/json-records/echinocereus-berlandieri.json\">Download json record</a></p>\n",
              "</div><!-- .entry-keywords -->\n",
              "<span class=\"obi-share\"><span class=\"obi-keywords\">Share this:</span><a href=\"https://twitter.com/intent/tweet?url=https%3A%2F%2Foldbookillustrations.com%2Fillustrations%2Fechinocereus-berlandieri%2F&amp;via=obillustrations&amp;\"><img alt=\"Share on Twitter\" class=\"icon-twitter\" height=\"1\" src=\"https://www.oldbookillustrations.com/wp-content/themes/obi_theme/images/blank.png\" width=\"1\"/></a> <a href=\"https://pinterest.com/pin/create/link/?url=https%3A%2F%2Foldbookillustrations.com%2Fillustrations%2Fechinocereus-berlandieri%2F\"><img alt=\"Share on Pinterest\" class=\"icon-pinterest\" height=\"1\" src=\"https://www.oldbookillustrations.com/wp-content/themes/obi_theme/images/blank.png\" width=\"1\"/></a> <a href=\"https://www.facebook.com/sharer/sharer.php?u=https%3A%2F%2Foldbookillustrations.com%2Fillustrations%2Fechinocereus-berlandieri%2F\"><img alt=\"Share on Facebook\" class=\"icon-facebook\" height=\"1\" src=\"https://www.oldbookillustrations.com/wp-content/themes/obi_theme/images/blank.png\" width=\"1\"/></a></span>\n",
              "<div class=\"to-top\"><a href=\"#\">▲ Top</a></div>\n",
              "<!-- begin related content --><footer>\n",
              "<div class=\"gallery related-gallery\" id=\"rpbt-related-gallery-1\">\n",
              "<h3>Other Illustrations You Might Like</h3>\n",
              "<dl class=\"gallery-item\">\n",
              "<dt class=\"gallery-icon portrait\">\n",
              "<a href=\"https://www.oldbookillustrations.com/illustrations/grusonia-grahamii/\" title=\"&lt;em&gt;Grusonia grahamii&lt;/em&gt;\"><img alt=\"Botanical steel engraving showing Grusonia grahamii, a plant in the family Cactaceae\" aria-describedby=\"rpbt-related-gallery-1-12057\" class=\"attachment-gallery size-gallery\" height=\"220\" sizes=\"(max-width: 220px) 100vw, 220px\" src=\"https://www.oldbookillustrations.com/wp-content/uploads/2022/03/grusonia-grahamii-220x220.jpg\" srcset=\"https://www.oldbookillustrations.com/wp-content/uploads/2022/03/grusonia-grahamii-220x220.jpg 220w, https://www.oldbookillustrations.com/wp-content/uploads/2022/03/grusonia-grahamii-170x170.jpg 170w\" width=\"220\"/></a>\n",
              "</dt>\n",
              "<dd class=\"wp-caption-text gallery-caption\" id=\"rpbt-related-gallery-1-12057\">\n",
              "<a href=\"https://www.oldbookillustrations.com/illustrations/grusonia-grahamii/\"><em>Grusonia grahamii</em></a>\n",
              "</dd>\n",
              "<dt class=\"gallery-icon portrait\">\n",
              "<a href=\"https://www.oldbookillustrations.com/illustrations/echinocereus-dasyacanthus/\" title=\"&lt;em&gt;Echinocereus dasyacanthus&lt;/em&gt;\"><img alt=\"Botanical steel engraving showing Echinocereus dasyacanthus, a plant in the family Cactaceae\" aria-describedby=\"rpbt-related-gallery-1-12055\" class=\"attachment-gallery size-gallery\" height=\"220\" sizes=\"(max-width: 220px) 100vw, 220px\" src=\"https://www.oldbookillustrations.com/wp-content/uploads/2022/03/echinocereus-dasyacanthus-220x220.jpg\" srcset=\"https://www.oldbookillustrations.com/wp-content/uploads/2022/03/echinocereus-dasyacanthus-220x220.jpg 220w, https://www.oldbookillustrations.com/wp-content/uploads/2022/03/echinocereus-dasyacanthus-170x170.jpg 170w\" width=\"220\"/></a>\n",
              "</dt>\n",
              "<dd class=\"wp-caption-text gallery-caption\" id=\"rpbt-related-gallery-1-12055\">\n",
              "<a href=\"https://www.oldbookillustrations.com/illustrations/echinocereus-dasyacanthus/\"><em>Echinocereus dasyacanthus</em></a>\n",
              "</dd>\n",
              "<dt class=\"gallery-icon portrait\">\n",
              "<a href=\"https://www.oldbookillustrations.com/illustrations/coryphantha-echinus/\" title=\"&lt;em&gt;Coryphantha echinus&lt;/em&gt;\"><img alt=\"Botanical steel engraving showing Coryphantha echinus, a plant in the family Cactaceae\" aria-describedby=\"rpbt-related-gallery-1-12053\" class=\"attachment-gallery size-gallery\" height=\"220\" sizes=\"(max-width: 220px) 100vw, 220px\" src=\"https://www.oldbookillustrations.com/wp-content/uploads/2022/03/coryphantha-echinus-220x220.jpg\" srcset=\"https://www.oldbookillustrations.com/wp-content/uploads/2022/03/coryphantha-echinus-220x220.jpg 220w, https://www.oldbookillustrations.com/wp-content/uploads/2022/03/coryphantha-echinus-170x170.jpg 170w\" width=\"220\"/></a>\n",
              "</dt>\n",
              "<dd class=\"wp-caption-text gallery-caption\" id=\"rpbt-related-gallery-1-12053\">\n",
              "<a href=\"https://www.oldbookillustrations.com/illustrations/coryphantha-echinus/\"><em>Coryphantha echinus</em></a>\n",
              "</dd>\n",
              "</dl>\n",
              "</div>\n",
              "</footer><!-- /related content -->\n",
              "</section>\n",
              "</div><!-- .entry-content -->\n",
              "<footer class=\"entry-meta\">\n",
              "</footer><!-- .entry-meta -->\n",
              "</article><!-- #post -->\n",
              "<nav class=\"navigation post-navigation\" itemscope=\"\" itemtype=\"https://schema.org/SiteNavigationElement\">\n",
              "<div class=\"screen-reader-text\">Post navigation</div>\n",
              "<div class=\"arrow-nav\">\n",
              "<div class=\"arrow-left\"></div>\n",
              "<div class=\"arrow-right\"></div>\n",
              "</div><!-- .nav-links -->\n",
              "</nav><!-- .navigation -->\n",
              "</main><!-- #content -->\n",
              "</div><!-- #primary -->\n",
              "<div class=\"sidebar-container clear\" id=\"tertiary\" itemscope=\"\" itemtype=\"https://schema.org/WPSideBar\" role=\"complementary\">\n",
              "<div class=\"sidebar-inner\">\n",
              "<div class=\"widget-area\">\n",
              "<p class=\"sidebar-pat-link\"><a href=\"#patlogin\">Patron Login</a></p>\n",
              "<div class=\"login-side\" id=\"patlogin\"><div class=\"pat-logform\">\n",
              "<form action=\"https://www.oldbookillustrations.com/wp-login.php\" id=\"loginform\" method=\"post\" name=\"loginform\">\n",
              "<p class=\"login-username\">\n",
              "<label for=\"user_login\">Username</label>\n",
              "<input class=\"input\" id=\"user_login\" name=\"log\" size=\"20\" type=\"text\" value=\"\"/>\n",
              "</p>\n",
              "<p class=\"login-password\">\n",
              "<label for=\"user_pass\">Password</label>\n",
              "<input class=\"input\" id=\"user_pass\" name=\"pwd\" size=\"20\" type=\"password\" value=\"\"/>\n",
              "</p>\n",
              "<p class=\"login-remember\"><label><input id=\"rememberme\" name=\"rememberme\" type=\"checkbox\" value=\"forever\"/> Remember Me</label></p>\n",
              "<p class=\"login-submit\">\n",
              "<input class=\"button button-primary\" id=\"wp-submit\" name=\"wp-submit\" type=\"submit\" value=\"Log In\"/>\n",
              "<input name=\"redirect_to\" type=\"hidden\" value=\"https://www.oldbookillustrations.com/illustrations/echinocereus-berlandieri/\"/>\n",
              "</p>\n",
              "</form><p class=\"login-side-close\"><b>×</b> <a href=\"#top\">Close</a></p></div></div>\n",
              "<aside class=\"widget\">\n",
              "<div class=\"obi-side\">\n",
              "<a href=\"https://www.oldbookillustrations.com/\"><img alt=\"Old Book Illustrations\" class=\"obi-logo\" height=\"1\" src=\"https://www.oldbookillustrations.com/wp-content/themes/obi_theme/images/blank.png\" width=\"1\"/></a>\n",
              "<p class=\"support\"><strong>Support us <a class=\"out\" href=\"https://www.patreon.com/oldbookillustrations\">on Patreon</a></strong><br/>and enjoy the perks</p>\n",
              "<div class=\"imaged\"><a href=\"https://edit.cartoonize.net/?via=harveyatobi\" rel=\"sponsored\">\n",
              "<strong>Open Image Editor</strong><br/>\n",
              "<em>(In partnership with Colorcinch)</em>\n",
              "</a>\n",
              "</div>\n",
              "<nav itemscope=\"\" itemtype=\"https://schema.org/SiteNavigationElement\">\n",
              "<div>Illustrations</div>\n",
              "<ul preload=\"\">\n",
              "<li><a href=\"/artists/\">Artists</a></li>\n",
              "<li><a href=\"/engravers/\">Engravers</a></li>\n",
              "<li><a href=\"/formats/\">Formats</a></li>\n",
              "<li><a href=\"/publishers/\">Publishers</a></li>\n",
              "<li><a href=\"/subjects/\">Subjects</a></li>\n",
              "<li><a href=\"/techniques/\">Techniques</a></li>\n",
              "<li><a href=\"/titles/\">Titles</a></li>\n",
              "</ul>\n",
              "<div>Articles</div>\n",
              "<ul preload=\"\">\n",
              "<li><a href=\"/editorial/illustrators/\">Illustrators</a></li>\n",
              "<li><a href=\"/editorial/on-books/\">On Books</a></li>\n",
              "</ul>\n",
              "</nav>\n",
              "<div>Widgets</div>\n",
              "<ul class=\"no-style no-mo\" preload=\"\">\n",
              "<li class=\"no-mo\">Old book illustrations for your site? Try <a href=\"/widgets/\">our widgets</a>!</li>\n",
              "</ul>\n",
              "</div><!-- .obi-side -->\n",
              "</aside><!-- widget -->\n",
              "</div><!-- .widget-area -->\n",
              "</div><!-- .sidebar-inner -->\n",
              "</div><!-- #tertiary -->\n",
              "</div><!-- #main -->\n",
              "<footer class=\"site-footer\" id=\"colophon\" itemscope=\"\" itemtype=\"https://schema.org/WPFooter\">\n",
              "<div class=\"sidebar-container clear\" id=\"secondary\" role=\"complementary\">\n",
              "<div class=\"centered-wrapper\">\n",
              "<section class=\"footer-links\" itemscope=\"\" itemtype=\"https://schema.org/SiteNavigationElement\">\n",
              "<h3><span class=\"browse-footer\">Browse</span> Illustrations</h3>\n",
              "<ul>\n",
              "<li><a href=\"/artists/\">Artists</a></li>\n",
              "<li><a href=\"/engravers/\">Engravers</a></li>\n",
              "<li><a href=\"/formats/\">Formats</a></li>\n",
              "<li><a href=\"/publishers/\">Publishers</a></li>\n",
              "<li><a href=\"/subjects/\">Subjects</a></li>\n",
              "<li><a href=\"/techniques/\">Techniques</a></li>\n",
              "<li><a href=\"/titles/\">Titles</a></li>\n",
              "</ul>\n",
              "</section>\n",
              "<section class=\"footer-links\" itemscope=\"\" itemtype=\"https://schema.org/SiteNavigationElement\">\n",
              "<h3><span class=\"browse-footer\">Browse</span> Articles</h3>\n",
              "<ul>\n",
              "<li><a href=\"/editorial/illustrators/\">Illustrators</a></li>\n",
              "<li><a href=\"/editorial/on-books/\">On Books</a></li>\n",
              "</ul>\n",
              "</section>\n",
              "<section class=\"footer-links\" itemscope=\"\" itemtype=\"https://schema.org/SiteNavigationElement\">\n",
              "<h3>Site Info</h3>\n",
              "<ul>\n",
              "<li><a href=\"/terms-of-use/\">Terms of use</a></li>\n",
              "<li><a href=\"/privacy-policy/\">Privacy policy</a></li>\n",
              "<li><a href=\"/about/\">About</a></li>\n",
              "<li><a href=\"/navigation-how-to/\">Navigation how-to</a></li>\n",
              "<li><a href=\"/web-sitemap/\">Sitemap</a></li>\n",
              "</ul>\n",
              "</section>\n",
              "<section class=\"footer-links\" itemscope=\"\" itemtype=\"https://schema.org/SiteNavigationElement\">\n",
              "<h3>Connect</h3>\n",
              "<ul>\n",
              "<li><a href=\"https://www.patreon.com/oldbookillustrations\">Patreon</a></li>\n",
              "<li><a href=\"https://twitter.com/obillustrations\">Follow on Twitter</a></li>\n",
              "<li><script type=\"text/javascript\">\n",
              "<!--\n",
              "// Email obfuscator script 2.1 by Tim Williams, University of Arizona\n",
              "// Random encryption key feature coded by Andrew Moulden\n",
              "// This code is freeware provided these four comment lines remain intact\n",
              "// A wizard to generate this code is at http://www.jottings.com/obfuscator/\n",
              "{ coded = \"xCSG9xG@C8qKCCya88kYGb9GaCSY.xCc\"\n",
              "  key = \"sWw8bgEMZeC1jVPvnBdLpIkcJA56Ga4NYlrRK7fQoUHzXhD3S2qTumyxFOti09\"\n",
              "  shift=coded.length\n",
              "  link=\"\"\n",
              "  for (i=0; i<coded.length; i++) {\n",
              "    if (key.indexOf(coded.charAt(i))==-1) {\n",
              "      ltr = coded.charAt(i)\n",
              "      link += (ltr)\n",
              "    }\n",
              "    else {     \n",
              "      ltr = (key.indexOf(coded.charAt(i))-shift+key.length) % key.length\n",
              "      link += (key.charAt(ltr))\n",
              "    }\n",
              "  }\n",
              "document.write(\"<a href='mailto:\"+link+\"'>Contact</a>\")\n",
              "}\n",
              "//-->\n",
              "</script><noscript>You can contact us at: contact <em>at</em> our domain name.</noscript>\n",
              "</li>\n",
              "<li><a href=\"/press/\">Reviews</a></li>\n",
              "</ul>\n",
              "</section>\n",
              "</div>\n",
              "</div><!-- #secondary -->\n",
              "<div class=\"site-info\">\n",
              "\t\t\t\tCopyright Old Book Illustrations 2007-2022\t\t\t\t\t\t\t\t\n",
              "\t\t\t</div><!-- .site-info -->\n",
              "<div class=\"eupopup eupopup-bottom eupopup-style-compact\"></div>\n",
              "</footer><!-- #colophon -->\n",
              "<nav id=\"slide-nav\" itemscope=\"\" itemtype=\"http://schema.org/SiteNavigationElement\">\n",
              "<a aria-label=\"Close Navigation\" class=\"nav-close\" href=\"#\">\n",
              "<!-- <svg width=\"23\" height=\"20\">\n",
              "   \t\t\t\t \t<g id=\"hamburger-2\">\n",
              "    \t\t\t\t\t<path d=\"M0,2 23,2\" stroke-width=\"3\"/>\n",
              "    \t\t\t\t\t<path d=\"M0,10 23,10\" stroke-width=\"3\"/>\n",
              "    \t\t\t\t\t<path d=\"M0,18 23,18\" stroke-width=\"3\"/>\n",
              "    \t\t\t\t\t</g>\n",
              "\t\t\t\t</svg> -->\n",
              "\t\t\t\t×\n",
              "\t\t\t</a>\n",
              "<ul>\n",
              "<li><a href=\"http://www.oldbookillustrations.com/illustrations/\">All Illustrations</a></li>\n",
              "<li><a href=\"http://www.oldbookillustrations.com/artists/\">Artists</a></li>\n",
              "<li><a href=\"http://www.oldbookillustrations.com/engravers/\">Engravers</a></li>\n",
              "<li><a href=\"http://www.oldbookillustrations.com/formats/\">Formats</a></li>\n",
              "<li><a href=\"http://www.oldbookillustrations.com/publishers/\">Publishers</a></li>\n",
              "<li><a href=\"http://www.oldbookillustrations.com/subjects/\">Subjects</a></li>\n",
              "<li><a href=\"http://www.oldbookillustrations.com/techniques/\">Techniques</a></li>\n",
              "<li class=\"titles\"><a href=\"http://www.oldbookillustrations.com/titles/\">Titles</a></li>\n",
              "<li><a href=\"http://www.oldbookillustrations.com/editorial/illustrators/\">Illustrators</a></li>\n",
              "<li><a href=\"http://www.oldbookillustrations.com/editorial/on-books/\">On Books</a></li>\n",
              "</ul>\n",
              "</nav>\n",
              "</div><!-- #page -->\n",
              "<script defer=\"defer\" src=\"https://www.oldbookillustrations.com/wp-content/themes/obi_theme/js/functions.js?ver=v1.1.4\" type=\"text/javascript\"></script>\n",
              "<script defer=\"defer\" src=\"https://www.oldbookillustrations.com/wp-includes/js/wp-embed.min.js?ver=4.9.20\" type=\"text/javascript\"></script>\n",
              "</body>\n",
              "</html>"
            ]
          },
          "metadata": {},
          "execution_count": 141
        }
      ]
    },
    {
      "cell_type": "markdown",
      "source": [
        "* 1) A l'aide de la méthode `.select` ([doc](https://www.crummy.com/software/BeautifulSoup/bs4/doc/#css-selectors)) qui recherche dans le document `HTML` avec des [sélecteurs CSS](https://www.w3schools.com/cssref/css_selectors.asp), on veut récupérer la liste des sources."
      ],
      "metadata": {
        "id": "i5_UpWeDmqfZ"
      }
    },
    {
      "cell_type": "code",
      "source": [
        "# CELLULE A COMPLETER\n",
        "\n",
        "sources = soup.select(\"[class~=out]\")[0].get_text()\n",
        "sources"
      ],
      "metadata": {
        "id": "fYNZ7iMDnb20",
        "colab": {
          "base_uri": "https://localhost:8080/",
          "height": 35
        },
        "outputId": "ae442cf0-9ee7-4707-d1fb-6c7202719546"
      },
      "execution_count": 142,
      "outputs": [
        {
          "output_type": "execute_result",
          "data": {
            "text/plain": [
              "'Botanicus, the Internet Archive '"
            ],
            "application/vnd.google.colaboratory.intrinsic+json": {
              "type": "string"
            }
          },
          "metadata": {},
          "execution_count": 142
        }
      ]
    },
    {
      "cell_type": "code",
      "source": [
        "#Executer cette cellule pour vérifier qu'on a bien les bons résultats\n",
        "try :\n",
        "  assert type(sources) == list\n",
        "except :\n",
        "  print(\"\\'sources\\' devrait être une liste\")\n",
        "try :\n",
        "  assert type(sources[0]) == str\n",
        "except :\n",
        "  print(\"Pense à récupérer le contenu textuel de chaque élément de la liste\")\n",
        "try :\n",
        "  assert 'the Internet Archive' in sources\n",
        "  print(\"OK\")\n",
        "except :\n",
        "  print(\"Il y a surement une erreur dans ton code\")"
      ],
      "metadata": {
        "id": "t4dAjLy1oPY2",
        "colab": {
          "base_uri": "https://localhost:8080/"
        },
        "outputId": "900f3d6c-f8a7-42ce-c592-b3d66a5688b2"
      },
      "execution_count": 143,
      "outputs": [
        {
          "output_type": "stream",
          "name": "stdout",
          "text": [
            "'sources' devrait être une liste\n",
            "OK\n"
          ]
        }
      ]
    },
    {
      "cell_type": "markdown",
      "source": [
        "* 2) A l'aide d'une expression régulière et de la bibliothèque `python` `re`, récupérer dans la page le nom de l'artiste.\n",
        "\n",
        "*Rappel : on peut utiliser `re.compile(a)` afin de passer une expression régulière `a` en argument de la méthode `soup.find` ou `soup.find_all`*"
      ],
      "metadata": {
        "id": "J45T3IxsqDmr"
      }
    },
    {
      "cell_type": "code",
      "source": [
        "import re # Bibliothèque python qui permettra d'utiliser des expressions régulières"
      ],
      "metadata": {
        "id": "Y7j4inwUqsdE"
      },
      "execution_count": 144,
      "outputs": []
    },
    {
      "cell_type": "code",
      "source": [
        "# CELLULE A COMPLETER\n",
        "\n",
        "name = soup.find(re.compile(\"(dd)\")).text\n",
        "name"
      ],
      "metadata": {
        "id": "eHmWB8lgqVf4",
        "colab": {
          "base_uri": "https://localhost:8080/",
          "height": 35
        },
        "outputId": "ff176bda-6525-4f98-bd75-8b9d9fcfe97b"
      },
      "execution_count": 145,
      "outputs": [
        {
          "output_type": "execute_result",
          "data": {
            "text/plain": [
              "'Roetter, Paulus'"
            ],
            "application/vnd.google.colaboratory.intrinsic+json": {
              "type": "string"
            }
          },
          "metadata": {},
          "execution_count": 145
        }
      ]
    },
    {
      "cell_type": "code",
      "source": [
        "#Executer cette cellule pour vérifier qu'on a bien les bons résultats\n",
        "try :\n",
        "  assert type(name) == str\n",
        "except :\n",
        "  print(\"Pense à récupérer le contenu textuel de l'élément récupéré\")\n",
        "try :\n",
        "  assert 'Roetter' in name\n",
        "  print(\"OK\")\n",
        "except :\n",
        "  print(\"Il y a surement une erreur dans ton code\")"
      ],
      "metadata": {
        "id": "jUr-hXCirGFx",
        "colab": {
          "base_uri": "https://localhost:8080/"
        },
        "outputId": "37852036-cc5b-4d05-916b-8018c575f785"
      },
      "execution_count": 146,
      "outputs": [
        {
          "output_type": "stream",
          "name": "stdout",
          "text": [
            "OK\n"
          ]
        }
      ]
    },
    {
      "cell_type": "markdown",
      "source": [
        "* 3) Avec une méthode au choix, on veut récupérer la liste des *keywords* associés à l'illustration"
      ],
      "metadata": {
        "id": "XYDLyYOIuFk5"
      }
    },
    {
      "cell_type": "code",
      "source": [
        "# CELLULE A COMPLETER\n",
        "\n",
        "keywords = soup.select(\"[itemprop~=keywords]\")[0].get_text() \n",
        "keywords"
      ],
      "metadata": {
        "id": "_GsFYUSmuR0v",
        "colab": {
          "base_uri": "https://localhost:8080/",
          "height": 35
        },
        "outputId": "a250b285-3c50-4780-cfea-74d4ac09d528"
      },
      "execution_count": 147,
      "outputs": [
        {
          "output_type": "execute_result",
          "data": {
            "text/plain": [
              "'1880s, 19th century, black & white, Cactaceae, flower, reference book'"
            ],
            "application/vnd.google.colaboratory.intrinsic+json": {
              "type": "string"
            }
          },
          "metadata": {},
          "execution_count": 147
        }
      ]
    },
    {
      "cell_type": "code",
      "source": [
        "#Executer cette cellule pour vérifier qu'on a bien les bons résultats\n",
        "try :\n",
        "  assert type(keywords) == list\n",
        "  assert len(keywords) > 0\n",
        "except :\n",
        "  print(\"\\'keywords\\' devrait être une liste\")\n",
        "try :\n",
        "  assert type(keywords[3]) == str\n",
        "  print(\"OK\")\n",
        "except :\n",
        "  print(\"Pense à récupérer le contenu textuel des éléments récupérés\")"
      ],
      "metadata": {
        "id": "y8oKN3eeuVYE",
        "colab": {
          "base_uri": "https://localhost:8080/"
        },
        "outputId": "c4a4af5f-fc7e-4c07-9f5f-03230ce0b349"
      },
      "execution_count": 148,
      "outputs": [
        {
          "output_type": "stream",
          "name": "stdout",
          "text": [
            "'keywords' devrait être une liste\n",
            "OK\n"
          ]
        }
      ]
    },
    {
      "cell_type": "markdown",
      "source": [
        "* 4) Avec une ou des méthodes au choix, on aimerait récupérer un maximum du reste des informations concernant l'illustration : le titre du livre dont elle est issue, la technique et le sujet de l'illustration et la description complète."
      ],
      "metadata": {
        "id": "rlnllsWhri9D"
      }
    },
    {
      "cell_type": "code",
      "source": [
        "# CELLULE A COMPLETER\n",
        "title = soup.select(\"[itemprop~=name]\")[5].get_text()\n",
        "title\n",
        "\n",
        "technique = soup.select(\"[itemprop~=artMedium]\")[0].get_text()\n",
        "technique"
      ],
      "metadata": {
        "id": "CQH6Odbewgv5",
        "colab": {
          "base_uri": "https://localhost:8080/",
          "height": 35
        },
        "outputId": "29c41f5e-63ca-43c7-a234-cf4a42af77eb"
      },
      "execution_count": 149,
      "outputs": [
        {
          "output_type": "execute_result",
          "data": {
            "text/plain": [
              "'Metal engraving'"
            ],
            "application/vnd.google.colaboratory.intrinsic+json": {
              "type": "string"
            }
          },
          "metadata": {},
          "execution_count": 149
        }
      ]
    },
    {
      "cell_type": "markdown",
      "source": [
        "* 5) [BONUS] Enfin on peut sauvegarder nos résultats dans un fichier `json`\n",
        "On pourra utiliser la bibliothèque `json` de `python` : [guide](https://moonbooks.org/Articles/How-to-save-a-dictionary-in-a-json-file-with-python-/)"
      ],
      "metadata": {
        "id": "CADV4gEwwknQ"
      }
    },
    {
      "cell_type": "code",
      "source": [
        "# CELLULE A COMPLETER\n",
        "import json\n",
        "\n",
        "dict = {\n",
        "    \"keywords\": keywords,\n",
        "    \"source\" : sources,\n",
        "    \"name\": name,\n",
        "    \"book_info\" : {\n",
        "        \"book_title\": title,\n",
        "        \"technique\": technique,\n",
        "    },\n",
        "}\n",
        "\n",
        "with open('ZEJLI_Oualid_Exam_Scraping.json', 'w') as fp:\n",
        "    json.dump(dict, fp)"
      ],
      "metadata": {
        "id": "AgHq_zRcw2j8"
      },
      "execution_count": 150,
      "outputs": []
    }
  ]
}