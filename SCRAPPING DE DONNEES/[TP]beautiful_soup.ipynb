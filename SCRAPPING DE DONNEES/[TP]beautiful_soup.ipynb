{
  "nbformat": 4,
  "nbformat_minor": 0,
  "metadata": {
    "colab": {
      "name": "[TP]beautiful_soup.ipynb",
      "provenance": [],
      "collapsed_sections": []
    },
    "kernelspec": {
      "name": "python3",
      "display_name": "Python 3"
    },
    "language_info": {
      "name": "python"
    }
  },
  "cells": [
    {
      "cell_type": "markdown",
      "source": [
        "Nous allons utiliser la bibliothèque [Beautiful Soup (`bs4`)](https://beautiful-soup-4.readthedocs.io/en/latest/) pour `python`"
      ],
      "metadata": {
        "id": "5jilo4tmib27"
      }
    },
    {
      "cell_type": "code",
      "execution_count": null,
      "metadata": {
        "id": "4cs5E4gMfw5X"
      },
      "outputs": [],
      "source": [
        "import bs4 #Beautiful Soup 4\n",
        "import requests #library to send HTTP requests"
      ]
    },
    {
      "cell_type": "markdown",
      "source": [
        "## Introduction"
      ],
      "metadata": {
        "id": "ffcky4KoxIBu"
      }
    },
    {
      "cell_type": "markdown",
      "source": [
        "Nous allons essayer d'extraire des informations sur des films référencés sur [IMDB](https://www.imdb.com/search/title?release_date=2018&sort=boxoffice_gross_us,desc&start=1)"
      ],
      "metadata": {
        "id": "2hEhEpa1PZNv"
      }
    },
    {
      "cell_type": "code",
      "source": [
        "url = 'https://www.imdb.com/search/title?release_date=2018&sort=boxoffice_gross_us,desc&start=1'\n",
        "\n",
        "source = requests.get(url).text\n",
        "soup = bs4.BeautifulSoup(source,'html.parser')"
      ],
      "metadata": {
        "id": "xXU5bYVGgCRb"
      },
      "execution_count": null,
      "outputs": []
    },
    {
      "cell_type": "markdown",
      "source": [
        "Que contient la variable `soup` ?"
      ],
      "metadata": {
        "id": "dXdTjkfii4fr"
      }
    },
    {
      "cell_type": "code",
      "source": [
        "#\n"
      ],
      "metadata": {
        "id": "WbaGsyPPi99B"
      },
      "execution_count": null,
      "outputs": []
    },
    {
      "cell_type": "markdown",
      "source": [
        "Avec la méthode `find_all`, on peut filtrer le document `soup`.\n",
        "\n",
        "En s'appuyant sur la [documentation](https://beautiful-soup-4.readthedocs.io/en/latest/index.html?highlight=find_all#find-all) de la méthode `find_all` de Beautiful Soup, on peut filtrer le document avec les filtres `name = \"div\"` et `attrs={\"class\";\"list-item-content\"}`"
      ],
      "metadata": {
        "id": "Vy34AC-ijXhC"
      }
    },
    {
      "cell_type": "code",
      "source": [
        "#movie_blocks ="
      ],
      "metadata": {
        "id": "FK5R_oH_jHOF"
      },
      "execution_count": null,
      "outputs": []
    },
    {
      "cell_type": "markdown",
      "source": [
        "En affichant, on peut remarquer qu'entre la première balise `<a>...</a>`, apparaît le titre du film.\n",
        "\n",
        "Extraire le titre du film avec la méthode `find` sur le premier bloc `movie_blocks[0]` et en extraire le texte qu'il contient avec la méthode `get_text`."
      ],
      "metadata": {
        "id": "zfE_14U7k_ZM"
      }
    },
    {
      "cell_type": "code",
      "source": [
        "# mname = "
      ],
      "metadata": {
        "id": "QhlRwKk0nEy0"
      },
      "execution_count": null,
      "outputs": []
    },
    {
      "cell_type": "markdown",
      "source": [
        "De la même manière, on peut extraire l'année de sortie. L'année de sortie apparaît dans la balise `span` avec pour attribut `class=\"lister-item-year\"`. On récupère la liste du contenu de la balise avec `.contents`\n",
        "\n",
        "\n",
        "L'année ainsi récupérée est entre parenthèses, on veillera donc à ne pas conserver le premier et le dernier caractère de la chaîne de caractères extraite (avec par exemple la tranche d'indices `[1:-1]`)"
      ],
      "metadata": {
        "id": "duafe9TZnMJd"
      }
    },
    {
      "cell_type": "code",
      "source": [
        "# m_reyear ="
      ],
      "metadata": {
        "id": "o21_Q1ydxEPq"
      },
      "execution_count": null,
      "outputs": []
    },
    {
      "cell_type": "markdown",
      "source": [
        "## Exemples"
      ],
      "metadata": {
        "id": "qk47yR_KxFNV"
      }
    },
    {
      "cell_type": "code",
      "source": [
        "import time\n",
        "import random\n",
        "import pandas as pd"
      ],
      "metadata": {
        "id": "oHdf9xPemXoV"
      },
      "execution_count": null,
      "outputs": []
    },
    {
      "cell_type": "code",
      "source": [
        "def scrape_mblock(movie_block):\n",
        "    \n",
        "    movieb_data ={}\n",
        "  \n",
        "    try:\n",
        "        movieb_data['name'] = movie_block.find('a').get_text() # Name of the movie\n",
        "    except:\n",
        "        movieb_data['name'] = None\n",
        "\n",
        "    try:    \n",
        "        movieb_data['year'] = str(movie_block.find('span',{'class': 'lister-item-year'}).contents[0][1:-1]) # Release year\n",
        "    except:\n",
        "        movieb_data['year'] = None\n",
        "\n",
        "    try:\n",
        "        movieb_data['rating'] = float(movie_block.find('div',{'class':'inline-block ratings-imdb-rating'}).get('data-value')) #rating\n",
        "    except:\n",
        "        movieb_data['rating'] = None\n",
        "\n",
        "    try:\n",
        "        movieb_data['m_score'] = float(movie_block.find('span',{'class':'metascore favorable'}).contents[0].strip()) #meta score\n",
        "    except:\n",
        "        movieb_data['m_score'] = None\n",
        "\n",
        "    try:\n",
        "        movieb_data['votes'] = int(movie_block.find('span',{'name':'nv'}).get('data-value')) # votes\n",
        "    except:\n",
        "        movieb_data['votes'] = None\n",
        "\n",
        "    return movieb_data"
      ],
      "metadata": {
        "id": "lixl7gGwmOHs"
      },
      "execution_count": null,
      "outputs": []
    },
    {
      "cell_type": "code",
      "source": [
        "def scrape_m_page(movie_blocks):\n",
        "    \n",
        "    page_movie_data = []\n",
        "    num_blocks = len(movie_blocks)\n",
        "    \n",
        "    for block in range(num_blocks):\n",
        "        page_movie_data.append(scrape_mblock(movie_blocks[block]))\n",
        "    \n",
        "    return page_movie_data"
      ],
      "metadata": {
        "id": "A2GZ5tQomPoR"
      },
      "execution_count": null,
      "outputs": []
    },
    {
      "cell_type": "code",
      "source": [
        "def scrape_this(link,t_count):\n",
        "\n",
        "    base_url = link\n",
        "    target = t_count\n",
        "    \n",
        "    current_mcount_start = 0\n",
        "    current_mcount_end = 0\n",
        "    remaining_mcount = target - current_mcount_end \n",
        "    \n",
        "    new_page_number = 1\n",
        "    \n",
        "    movie_data = []\n",
        "    \n",
        "    \n",
        "    while remaining_mcount > 0:\n",
        "\n",
        "        url = base_url + str(new_page_number)\n",
        "        \n",
        "        #set_trace()\n",
        "        \n",
        "        source = requests.get(url).text\n",
        "        soup = bs4.BeautifulSoup(source,'html.parser')\n",
        "        \n",
        "        movie_blocks = soup.findAll('div',{'class':'lister-item-content'})\n",
        "        \n",
        "        movie_data.extend(scrape_m_page(movie_blocks))   \n",
        "        \n",
        "        current_mcount_start = int(soup.find(\"div\", {\"class\":\"nav\"}).find(\"div\", {\"class\": \"desc\"}).contents[1].get_text().split(\"-\")[0])\n",
        "\n",
        "        current_mcount_end = int(soup.find(\"div\", {\"class\":\"nav\"}).find(\"div\", {\"class\": \"desc\"}).contents[1].get_text().split(\"-\")[1].split(\" \")[0])\n",
        "\n",
        "        remaining_mcount = target - current_mcount_end\n",
        "        \n",
        "        print('\\r' + \"currently scraping movies from: \" + str(current_mcount_start) + \" - \"+str(current_mcount_end), \"| remaining count: \" + str(remaining_mcount), flush=True, end =\"\")\n",
        "        \n",
        "        new_page_number = current_mcount_end + 1\n",
        "        \n",
        "        time.sleep(random.randint(0, 10))\n",
        "    \n",
        "    return movie_data"
      ],
      "metadata": {
        "id": "pV1HNfz9mQBw"
      },
      "execution_count": null,
      "outputs": []
    },
    {
      "cell_type": "code",
      "source": [
        "base_scraping_link = \"https://www.imdb.com/search/title?release_date=2018-01-01,2018-12-31&sort=boxoffice_gross_us,desc&start=\"\n",
        "\n",
        "top_movies = 150 #input(\"How many movies do you want to scrape?\")\n",
        "films = []\n",
        "\n",
        "films = scrape_this(base_scraping_link,int(top_movies))\n",
        "\n",
        "print('\\r'+\"List of top \" + str(top_movies) +\" movies:\" + \"\\n\", end=\"\\n\")\n",
        "pd.DataFrame(films)"
      ],
      "metadata": {
        "colab": {
          "base_uri": "https://localhost:8080/",
          "height": 458
        },
        "id": "IFw1gs3FmTMM",
        "outputId": "c620d51d-7deb-4308-ed4a-3ba1b9049d6c"
      },
      "execution_count": null,
      "outputs": [
        {
          "output_type": "stream",
          "name": "stdout",
          "text": [
            "List of top 150 movies:\n",
            "\n"
          ]
        },
        {
          "output_type": "execute_result",
          "data": {
            "text/plain": [
              "                               name  year  rating  m_score   votes\n",
              "0                     Black Panther  2018     7.3     88.0  713990\n",
              "1            Avengers: Infinity War  2018     8.5     68.0  997797\n",
              "2                     Incredibles 2  2018     7.6     80.0  282417\n",
              "3    Jurassic World: Fallen Kingdom  2018     6.2      NaN  294856\n",
              "4                           Aquaman  2018     6.9      NaN  437260\n",
              "..                              ...   ...     ...      ...     ...\n",
              "145                      Boy Erased  2018     6.9     69.0   37677\n",
              "146                   Hotel Artemis  2018     6.1      NaN   52265\n",
              "147                           A-X-L  2018     5.3      NaN   11702\n",
              "148                    Run the Race  2018     6.0      NaN    1496\n",
              "149                 Fahrenheit 11/9  2018     7.0     69.0   19269\n",
              "\n",
              "[150 rows x 5 columns]"
            ],
            "text/html": [
              "\n",
              "  <div id=\"df-9b6cc4af-9094-4450-8e84-81a4e64f47c5\">\n",
              "    <div class=\"colab-df-container\">\n",
              "      <div>\n",
              "<style scoped>\n",
              "    .dataframe tbody tr th:only-of-type {\n",
              "        vertical-align: middle;\n",
              "    }\n",
              "\n",
              "    .dataframe tbody tr th {\n",
              "        vertical-align: top;\n",
              "    }\n",
              "\n",
              "    .dataframe thead th {\n",
              "        text-align: right;\n",
              "    }\n",
              "</style>\n",
              "<table border=\"1\" class=\"dataframe\">\n",
              "  <thead>\n",
              "    <tr style=\"text-align: right;\">\n",
              "      <th></th>\n",
              "      <th>name</th>\n",
              "      <th>year</th>\n",
              "      <th>rating</th>\n",
              "      <th>m_score</th>\n",
              "      <th>votes</th>\n",
              "    </tr>\n",
              "  </thead>\n",
              "  <tbody>\n",
              "    <tr>\n",
              "      <th>0</th>\n",
              "      <td>Black Panther</td>\n",
              "      <td>2018</td>\n",
              "      <td>7.3</td>\n",
              "      <td>88.0</td>\n",
              "      <td>713990</td>\n",
              "    </tr>\n",
              "    <tr>\n",
              "      <th>1</th>\n",
              "      <td>Avengers: Infinity War</td>\n",
              "      <td>2018</td>\n",
              "      <td>8.5</td>\n",
              "      <td>68.0</td>\n",
              "      <td>997797</td>\n",
              "    </tr>\n",
              "    <tr>\n",
              "      <th>2</th>\n",
              "      <td>Incredibles 2</td>\n",
              "      <td>2018</td>\n",
              "      <td>7.6</td>\n",
              "      <td>80.0</td>\n",
              "      <td>282417</td>\n",
              "    </tr>\n",
              "    <tr>\n",
              "      <th>3</th>\n",
              "      <td>Jurassic World: Fallen Kingdom</td>\n",
              "      <td>2018</td>\n",
              "      <td>6.2</td>\n",
              "      <td>NaN</td>\n",
              "      <td>294856</td>\n",
              "    </tr>\n",
              "    <tr>\n",
              "      <th>4</th>\n",
              "      <td>Aquaman</td>\n",
              "      <td>2018</td>\n",
              "      <td>6.9</td>\n",
              "      <td>NaN</td>\n",
              "      <td>437260</td>\n",
              "    </tr>\n",
              "    <tr>\n",
              "      <th>...</th>\n",
              "      <td>...</td>\n",
              "      <td>...</td>\n",
              "      <td>...</td>\n",
              "      <td>...</td>\n",
              "      <td>...</td>\n",
              "    </tr>\n",
              "    <tr>\n",
              "      <th>145</th>\n",
              "      <td>Boy Erased</td>\n",
              "      <td>2018</td>\n",
              "      <td>6.9</td>\n",
              "      <td>69.0</td>\n",
              "      <td>37677</td>\n",
              "    </tr>\n",
              "    <tr>\n",
              "      <th>146</th>\n",
              "      <td>Hotel Artemis</td>\n",
              "      <td>2018</td>\n",
              "      <td>6.1</td>\n",
              "      <td>NaN</td>\n",
              "      <td>52265</td>\n",
              "    </tr>\n",
              "    <tr>\n",
              "      <th>147</th>\n",
              "      <td>A-X-L</td>\n",
              "      <td>2018</td>\n",
              "      <td>5.3</td>\n",
              "      <td>NaN</td>\n",
              "      <td>11702</td>\n",
              "    </tr>\n",
              "    <tr>\n",
              "      <th>148</th>\n",
              "      <td>Run the Race</td>\n",
              "      <td>2018</td>\n",
              "      <td>6.0</td>\n",
              "      <td>NaN</td>\n",
              "      <td>1496</td>\n",
              "    </tr>\n",
              "    <tr>\n",
              "      <th>149</th>\n",
              "      <td>Fahrenheit 11/9</td>\n",
              "      <td>2018</td>\n",
              "      <td>7.0</td>\n",
              "      <td>69.0</td>\n",
              "      <td>19269</td>\n",
              "    </tr>\n",
              "  </tbody>\n",
              "</table>\n",
              "<p>150 rows × 5 columns</p>\n",
              "</div>\n",
              "      <button class=\"colab-df-convert\" onclick=\"convertToInteractive('df-9b6cc4af-9094-4450-8e84-81a4e64f47c5')\"\n",
              "              title=\"Convert this dataframe to an interactive table.\"\n",
              "              style=\"display:none;\">\n",
              "        \n",
              "  <svg xmlns=\"http://www.w3.org/2000/svg\" height=\"24px\"viewBox=\"0 0 24 24\"\n",
              "       width=\"24px\">\n",
              "    <path d=\"M0 0h24v24H0V0z\" fill=\"none\"/>\n",
              "    <path d=\"M18.56 5.44l.94 2.06.94-2.06 2.06-.94-2.06-.94-.94-2.06-.94 2.06-2.06.94zm-11 1L8.5 8.5l.94-2.06 2.06-.94-2.06-.94L8.5 2.5l-.94 2.06-2.06.94zm10 10l.94 2.06.94-2.06 2.06-.94-2.06-.94-.94-2.06-.94 2.06-2.06.94z\"/><path d=\"M17.41 7.96l-1.37-1.37c-.4-.4-.92-.59-1.43-.59-.52 0-1.04.2-1.43.59L10.3 9.45l-7.72 7.72c-.78.78-.78 2.05 0 2.83L4 21.41c.39.39.9.59 1.41.59.51 0 1.02-.2 1.41-.59l7.78-7.78 2.81-2.81c.8-.78.8-2.07 0-2.86zM5.41 20L4 18.59l7.72-7.72 1.47 1.35L5.41 20z\"/>\n",
              "  </svg>\n",
              "      </button>\n",
              "      \n",
              "  <style>\n",
              "    .colab-df-container {\n",
              "      display:flex;\n",
              "      flex-wrap:wrap;\n",
              "      gap: 12px;\n",
              "    }\n",
              "\n",
              "    .colab-df-convert {\n",
              "      background-color: #E8F0FE;\n",
              "      border: none;\n",
              "      border-radius: 50%;\n",
              "      cursor: pointer;\n",
              "      display: none;\n",
              "      fill: #1967D2;\n",
              "      height: 32px;\n",
              "      padding: 0 0 0 0;\n",
              "      width: 32px;\n",
              "    }\n",
              "\n",
              "    .colab-df-convert:hover {\n",
              "      background-color: #E2EBFA;\n",
              "      box-shadow: 0px 1px 2px rgba(60, 64, 67, 0.3), 0px 1px 3px 1px rgba(60, 64, 67, 0.15);\n",
              "      fill: #174EA6;\n",
              "    }\n",
              "\n",
              "    [theme=dark] .colab-df-convert {\n",
              "      background-color: #3B4455;\n",
              "      fill: #D2E3FC;\n",
              "    }\n",
              "\n",
              "    [theme=dark] .colab-df-convert:hover {\n",
              "      background-color: #434B5C;\n",
              "      box-shadow: 0px 1px 3px 1px rgba(0, 0, 0, 0.15);\n",
              "      filter: drop-shadow(0px 1px 2px rgba(0, 0, 0, 0.3));\n",
              "      fill: #FFFFFF;\n",
              "    }\n",
              "  </style>\n",
              "\n",
              "      <script>\n",
              "        const buttonEl =\n",
              "          document.querySelector('#df-9b6cc4af-9094-4450-8e84-81a4e64f47c5 button.colab-df-convert');\n",
              "        buttonEl.style.display =\n",
              "          google.colab.kernel.accessAllowed ? 'block' : 'none';\n",
              "\n",
              "        async function convertToInteractive(key) {\n",
              "          const element = document.querySelector('#df-9b6cc4af-9094-4450-8e84-81a4e64f47c5');\n",
              "          const dataTable =\n",
              "            await google.colab.kernel.invokeFunction('convertToInteractive',\n",
              "                                                     [key], {});\n",
              "          if (!dataTable) return;\n",
              "\n",
              "          const docLinkHtml = 'Like what you see? Visit the ' +\n",
              "            '<a target=\"_blank\" href=https://colab.research.google.com/notebooks/data_table.ipynb>data table notebook</a>'\n",
              "            + ' to learn more about interactive tables.';\n",
              "          element.innerHTML = '';\n",
              "          dataTable['output_type'] = 'display_data';\n",
              "          await google.colab.output.renderOutput(dataTable, element);\n",
              "          const docLink = document.createElement('div');\n",
              "          docLink.innerHTML = docLinkHtml;\n",
              "          element.appendChild(docLink);\n",
              "        }\n",
              "      </script>\n",
              "    </div>\n",
              "  </div>\n",
              "  "
            ]
          },
          "metadata": {},
          "execution_count": 39
        }
      ]
    },
    {
      "cell_type": "markdown",
      "source": [
        "## Travail en autonomie"
      ],
      "metadata": {
        "id": "A1dbjhxwyo9t"
      }
    },
    {
      "cell_type": "markdown",
      "source": [
        "Maintenant à vous de jouer ! Utilisez la bibliothèque Beautiful Soup et allez extraire des informations textuelles provenant d'un site.\n",
        "\n",
        "Quelques exemples de pages :\n",
        "\n",
        "* Wikipédia\n",
        "\n",
        "* [GoodReads best books ever](https://www.goodreads.com/list/show/1.Best_Books_Ever)\n",
        "\n",
        "* [All Side media bias rating](https://www.allsides.com/media-bias/media-bias-ratings)\n",
        "\n",
        "* [NASA Mars news website](https://mars.nasa.gov/news/?page=0&per_page=40&order=publish_date+desc%2Ccreated_at+desc&search=&category=19%2C165%2C184%2C204&blank_scope=Latest)\n",
        "\n",
        "* [Mars weather Twitter account](https://twitter.com/marswxreport?lang=en) /!\\ visiblement il est plus facile d'extraire des données de Twitter quand on y est pas connecté !\n",
        "\n",
        "* [Mars facts](https://space-facts.com/mars/)\n",
        "\n",
        "* [Fake Python Jobs](https://realpython.github.io/fake-jobs/)\n",
        "\n",
        "\n",
        "Comme dans l'exemple précédent, vous pouvez ensuite structurer ces données dans un tableau et en faire un *dataframe* avec la bibliothèque `pandas`"
      ],
      "metadata": {
        "id": "LDaF8MY4pvab"
      }
    }
  ]
}